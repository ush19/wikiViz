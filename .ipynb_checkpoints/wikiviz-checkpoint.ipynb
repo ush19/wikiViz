{
 "cells": [
  {
   "cell_type": "code",
   "execution_count": null,
   "metadata": {},
   "outputs": [],
   "source": [
    "''' \n",
    "\n",
    "BIG REFERENCE:\n",
    "https://www.geeksforgeeks.org/generate-graph-using-dictionary-python/\n",
    "\n",
    ">>>tracker of sorts<<<\n",
    "December 23 2021: latest update to this project\n",
    "September 22 2022: first update to project in 2022 after hiatus of 9 months, switched from dynamically searching for text to user entering wikipedia link\n",
    "November 24 2022: continued updates; made rough map, switched to Gephi (will use networkx later)\n",
    "November 25 2022: discovered that the computational part behind the visualizations I'm building are called graph theory... kinda forgot about that\n",
    "'''\n",
    "\n",
    "'''\n",
    "thoughts as I go along\n",
    "\n",
    "> use some network graph package to visualize connection(s)\n",
    "> main two pages: page_a, page_b\n",
    "> lol no\n",
    "    intermediary links between a and b: \n",
    "   a_1_1: list of links 1 page, 1st link from page a\n",
    "   a_10_20: list of links 10 pages, 20th link from page a\n",
    "   b_300_35: list of links 300 pages, 35th link from page b\n",
    "    --> recursively checking if any of the links match \n",
    "    don't make dynammically named variables, use a dict: \n",
    "https://stackoverflow.com/questions/14819849/create-lists-of-unique-names-in-a-for-loop-in-python\n",
    "> two main requirements for networkx: nodes and edges\n",
    "    dictionary of lists, example:\n",
    "        {[source, destination], [source, destination], [source, destination], [source, destination]}\n",
    "    recursively loop through the origin node list and find all the pages for each origin, insert into list insert into dictionary - using origin page as source\n",
    "    take the origins nodes pages as source \n",
    "    \n",
    "    before inserting: \n",
    "    check for duplicates in origin and destination node ends and in intermediaries\n",
    "    check for shared edges\n",
    "    (or insert first and then delete?)\n",
    "    \n",
    "    nodes: \n",
    "        develop two lists (origin, destination: \n",
    "        combine both lists and remove duplictes\n",
    "    \n",
    "    edges: \n",
    "        provided from above \n",
    "        \n",
    "    research what type of data structure should be used for the source, destination edge file\n",
    "    \n",
    "\n",
    "maybe?\n",
    "> by building a web app, I'd be constantly making requests to Wikipedia and despite their generous no limit, just be considerate policy, i'd rather not crash their systems\n",
    "   better undertaking: get ALL wikipedia data, store it in one file, build app from there \n",
    "\n",
    "'''"
   ]
  },
  {
   "cell_type": "code",
   "execution_count": 1,
   "metadata": {},
   "outputs": [
    {
     "name": "stdout",
     "output_type": "stream",
     "text": [
      "Once deleted, variables cannot be recovered. Proceed (y/[n])? y\n"
     ]
    }
   ],
   "source": [
    "%reset"
   ]
  },
  {
   "cell_type": "code",
   "execution_count": 2,
   "metadata": {},
   "outputs": [],
   "source": [
    "import wikipediaapi\n",
    "import pandas as pd\n",
    "import networkx as nx"
   ]
  },
  {
   "cell_type": "code",
   "execution_count": 13,
   "metadata": {},
   "outputs": [
    {
     "name": "stdout",
     "output_type": "stream",
     "text": [
      "enter first wikipedia page name: War of 1812\n",
      "enter second wikipedia page name: Lionel Messi\n"
     ]
    }
   ],
   "source": [
    "#   taking the more straightforward route, user supplies program with 2 wikipedia links themselves\n",
    "search_node_a = input(\"enter first wikipedia page name: \")\n",
    "search_node_b = input(\"enter second wikipedia page name: \")"
   ]
  },
  {
   "cell_type": "code",
   "execution_count": 14,
   "metadata": {},
   "outputs": [],
   "source": [
    "wiki_wiki = wikipediaapi.Wikipedia('en')\n",
    "\n",
    "page_a = wiki_wiki.page(search_node_a)\n",
    "page_b = wiki_wiki.page(search_node_b)"
   ]
  },
  {
   "cell_type": "code",
   "execution_count": 15,
   "metadata": {},
   "outputs": [],
   "source": [
    "def return_links(page, list_n):\n",
    "        links = page.links\n",
    "        for title in sorted(links.keys()):\n",
    "            list_n.append(title)"
   ]
  },
  {
   "cell_type": "code",
   "execution_count": 16,
   "metadata": {
    "scrolled": true
   },
   "outputs": [],
   "source": [
    "list_node_a = []\n",
    "list_node_b = []\n",
    "\n",
    "return_links(page_a, list_node_a)\n",
    "return_links(page_b, list_node_b)"
   ]
  },
  {
   "cell_type": "code",
   "execution_count": 48,
   "metadata": {},
   "outputs": [],
   "source": [
    "for item in list_node_a.copy():\n",
    "    if ((item in ('Wayback Machine', 'Specials (Unicode block)')) or (item.endswith(('(disambiguation)', '(identifier)'))) or (item.startswith(('List of ', 'Category:', 'File:', 'Help:', 'Talk:', 'Template:', 'Wikipedia:', 'Template talk:', 'Portal:')))):\n",
    "        list_node_a.remove(item)"
   ]
  },
  {
   "cell_type": "code",
   "execution_count": 49,
   "metadata": {},
   "outputs": [],
   "source": [
    "for item in list_node_b.copy():\n",
    "    if ((item in ('Wayback Machine', 'Specials (Unicode block)')) or (item.endswith(('(disambiguation)', '(identifier)'))) or (item.startswith(('List of ', 'Category:', 'File:', 'Help:', 'Talk:', 'Template:', 'Wikipedia:', 'Template talk', 'Portal:')))):\n",
    "        list_node_b.remove(item)"
   ]
  },
  {
   "cell_type": "code",
   "execution_count": 50,
   "metadata": {},
   "outputs": [],
   "source": [
    "graph = {}\n",
    "\n",
    "graph[(page_a.title)] = list_node_a\n",
    "graph[(page_b.title)] = list_node_b\n",
    "\n",
    "G = nx.to_networkx_graph(graph)"
   ]
  },
  {
   "cell_type": "code",
   "execution_count": 51,
   "metadata": {},
   "outputs": [
    {
     "name": "stdout",
     "output_type": "stream",
     "text": [
      "No path found between War of 1812 and Lionel Messi.\n"
     ]
    }
   ],
   "source": [
    "#                  do this function everytime a new wikipage's links are added to graph variable\n",
    "#nx.shortest_path(G, 'Apple', 'Pokémon')\n",
    "\n",
    "try:\n",
    "    print(nx.shortest_path(G, page_a.title, page_b.title))\n",
    "except nx.NetworkXNoPath:\n",
    "    print(\"No path found between %s and %s.\" % (page_a.title, page_b.title))"
   ]
  },
  {
   "cell_type": "code",
   "execution_count": 75,
   "metadata": {},
   "outputs": [
    {
     "name": "stdout",
     "output_type": "stream",
     "text": [
      "['13th United States Congress', '1812 Baltimore riots', '1828 United States presidential election', '1838 Mormon War', '1936–1939 Arab revolt in Palestine', '1986 United States bombing of Libya', '1992 Los Angeles riots', '1993 cruise missile strikes on Iraq', '1996 cruise missile strikes on Iraq', '2011 military intervention in Libya', '2020–2021 United States racial unrest', '2nd Regiment of York Militia', '51st state', 'Abortion in the United States', 'Action of 13 December 1814 (Louisiana Campaign)', 'Action of 17 July 1628', 'Action of 9 May 1814', 'Action off Charles Island', 'Action off James Island', 'Adams–Onís Treaty', 'Aden Emergency', 'Aden Expedition', 'Administrative divisions of the United States', 'Admiralty House, Bermuda', 'Adolescent sexuality in the United States', 'Adubi War', 'Adwan Rebellion', 'Affirmative action in the United States', 'Affluence in the United States', 'Afridi Redshirt Rebellion, Indian North West Frontier 1930–1931', 'Ages of consent in the United States', 'Agriculture in the United States', 'Ahmed Barzani revolt', 'Alabama', 'Alabama River', 'Alan Taylor (historian)', 'Alexander Cochrane', 'Alexander I of Russia', 'Alexander Macomb (general)', 'Alexander Smyth', 'Alexandria expedition of 1807', 'Alfred T. Mahan', 'Algonquian languages', 'Allied intervention in the Russian Civil War', 'Ambela campaign', 'American Century', 'American Civil War', 'American Dream', 'American English', 'American Indian Wars', 'American Revolution', 'American Revolutionary War', 'American Sign Language', 'American cuisine', 'American exceptionalism', 'American frontier', 'American imperialism', 'American intervention in Libya (2015–present)', 'American literature', 'American middle class', 'American military intervention in Cameroon', 'American nationalism', 'American philosophy', 'American wine', 'American-led intervention in Iraq (2014–present)', 'American-led intervention in the Syrian Civil War', 'Americana (culture)', 'Americans', 'Amherstburg', 'Andrew Jackson', 'Anglican Church', 'Anglo-Aro War', 'Anglo-Ashanti wars', 'Anglo-Cherokee War', 'Anglo-Egyptian War', 'Anglo-French blockade of the Río de la Plata', 'Anglo-Manipur War', 'Anglo-Mughal War', 'Anglo-Nepalese War', 'Anglo-Persian War', 'Anglo-Persian capture of Ormuz', 'Anglo-Powhatan Wars', 'Anglo-Siamese War', 'Anglo-Spanish War (1654–1660)', 'Anglo-Spanish War (1762–1763)', 'Anglo-Zanzibar War', 'Anglo-Zulu War', 'Anti-Americanism', 'Anti-Catholicism', 'Anti-cession movement of Sarawak', 'Antisemitism in the United States', 'Apalachicola River', 'Appalachian Mountains', 'Arabic language in the United States', 'Architecture of the United States', 'Arkansas River', 'Army of the Northwest (United States)', 'Arthur Bingham', 'Arthur Wellesley, 1st Duke of Wellington', 'Articles of Confederation', 'Assassination of Spencer Perceval', 'Atlantic Ocean', 'Augustus Foster', 'Augustus Ludlow', 'Australian frontier wars', 'Bahia', 'Baltimore', 'Baltimore Clipper', 'Bambatha Rebellion', 'Banana Wars', 'Bangor, Maine', 'Banking in the United States', 'Baptist War', 'Barings Bank', 'Bashi Skirmish', 'Basuto Gun War', 'Battle of Africa Point', 'Battle of Autossee', \"Battle of Ball's Farm\", 'Battle of Baltimore', 'Battle of Beaver Dams', 'Battle of Big Sandy Creek', 'Battle of Blaauwberg', 'Battle of Bladensburg', 'Battle of Blair Mountain', 'Battle of Brownstown', 'Battle of Buffalo', 'Battle of Burnt Corn', 'Battle of Callabee Creek', \"Battle of Caulk's Field\", 'Battle of Chippawa', 'Battle of Conjocta Creek', \"Battle of Cook's Mills\", 'Battle of Craney Island', 'Battle of Credit Island', \"Battle of Crysler's Farm\", 'Battle of Fayal', 'Battle of Fort Dearborn', 'Battle of Fort George', 'Battle of Fort Oswego (1814)', 'Battle of Fort Peter', 'Battle of Fort Stephenson', \"Battle of Frenchman's Creek\", 'Battle of Frenchtown', 'Battle of Hampden', 'Battle of Holy Ground', 'Battle of Horseshoe Bend (1814)', 'Battle of La Guaira (1812)', 'Battle of Lacolle Mills (1812)', 'Battle of Lacolle Mills (1814)', 'Battle of Lake Borgne', 'Battle of Lake Erie', 'Battle of Lewiston', 'Battle of Longwoods', \"Battle of Lundy's Lane\", 'Battle of Mackinac Island', 'Battle of Mackinac Island (1814)', 'Battle of Maguaga', \"Battle of Malcolm's Mills\", 'Battle of Matilda', 'Battle of New Orleans', 'Battle of New Orleans British order of battle', 'Battle of North Point', 'Battle of Ogdensburg', 'Battle of Pensacola (1814)', 'Battle of Plattsburgh', 'Battle of Queenston Heights', 'Battle of Rappahannock River', 'Battle of River Canard', 'Battle of Rock Island Rapids', \"Battle of Sackett's Harbor\", 'Battle of St. Michaels', 'Battle of St. Regis', 'Battle of Stoney Creek', 'Battle of Surabaya', 'Battle of Suriname', 'Battle of Swally', 'Battle of Talladega', 'Battle of Tallushatchee', 'Battle of Tangier (1664)', 'Battle of Tippecanoe', \"Battle of Tipton's Island\", 'Battle of Trafalgar', 'Battle of Typee Valley', 'Battle of Valparaíso', 'Battle of Wild Cat Creek', 'Battle of York', 'Battle of the Chateauguay', 'Battle of the Mississinewa', 'Battle of the Sink Hole', 'Battle of the Thames', 'Battles of Emuckfaw and Enotachopo Creek', 'Battles of the War of 1812', 'Bay of Pigs invasion', 'Beaver Wars', 'Bengal War', 'Benin Expedition of 1897', 'Benjamin Hawkins', 'Berlin Decree', 'Bermuda', 'Bermuda sloop', 'Bibliography of Canadian military history', 'Bibliography of early United States naval history', 'Bibliography of the United States', 'Bibliography of the War of 1812', 'Black American Sign Language', 'Black Hawk (Sauk leader)', 'Black Loyalists', 'Black Refugee (War of 1812)', 'Black War', 'Bleeding Kansas', 'Blockade', 'Bomb vessel', 'Bombardment of Algiers (1816)', 'Bombardment of Kagoshima', 'Bombardment of Lewes', 'Bombing of Iraq (1998)', 'Bond (finance)', 'Bonus Army', 'Boonslick', 'Boston Associates', 'Boston Harbor', 'Boston Manufacturing Company', 'Boxer Rebellion', 'Bradford Perkins (historian)', 'Brig', 'Bristol', 'British Army', 'British Empire', 'British Expedition to Abyssinia', 'British North America', 'British West Indies', 'British expedition to Tibet', 'British invasions of the River Plate', 'Brooks–Baxter War', 'Brunei revolt', 'Buffalo, New York', 'Buffer state', 'Burlington Heights (Ontario)', 'Burning of Washington', 'Bussa rebellion', 'C. L. Mowat', 'COVID-19 pandemic in the United States', 'Cabinet of the United States', 'Camden County, Georgia', 'Canada and the Iraq War', 'Canada and the Vietnam War', 'Canada in the American Civil War', 'Canada in the Cold War', 'Canada in the Korean War', \"Canada's role in the Afghanistan War\", 'Canadian Militia', 'Canadian Voltigeurs', 'Canadian units of the War of 1812', 'Canoe Fight (Creek War)', 'Capital punishment in the United States', 'Capture of East India Company ship Nautilus', 'Capture of Fort Erie', 'Capture of Fort Niagara', 'Capture of HMS Boxer', 'Capture of HMS Caledonia and HMS Detroit', 'Capture of HMS Cyane', 'Capture of HMS Cyane and HMS Levant', 'Capture of HMS Dominica', 'Capture of HMS Epervier', 'Capture of HMS Frolic', 'Capture of HMS Penguin', 'Capture of USS Argus', 'Capture of USS Chesapeake', 'Capture of USS President', 'Caribbean Sea', 'Carnatic Wars', 'Caste War of Yucatán', 'Castine, Maine', 'Castle Hill convict rebellion', 'Casualties', 'Cecil Bisshopp', 'Central Intelligence Agency', 'Central United States', 'Charles Jared Ingersoll', 'Charles Napier (Royal Navy officer)', 'Charles Turner Jr.', 'Charles de Salaberry', 'Charleston, South Carolina', 'Chattahoochee River', 'Cherokee', 'Chesapeake Bay', 'Chesapeake Bay Flotilla', 'Chesapeake–Leopard affair', 'Chile', 'Chilembwe uprising', 'Chinese language and varieties in the United States', 'Chippewa River (Michigan)', 'Chitral Expedition', 'Choctaw', 'Cinema of the United States', 'Civil liberties in the United States', 'Civil rights movement', 'Civil rights movement (1865–1896)', 'Civil rights movement (1896–1954)', 'Climate change in the United States', 'Coal Creek War', 'Code of Federal Regulations', 'Cold War', 'Colonial American military history', 'Colonial history of the United States', 'Colonial militia in Canada', 'Colorado River', 'Columbia (personification)', 'Columbia River', 'Commerce raiding', 'Communications in the United States', 'Communist insurgency in Sarawak', 'Confederation period', 'Congress of Vienna', 'Conscientious objector', 'Conscription Crisis of 1917', 'Constitution of the United States', 'Contiguous United States', 'Continental Association', 'Continental Congress', 'Convoy', \"Cook's Mill\", 'Coosa River', 'Copus massacre', 'Corps of Colonial Marines', 'Corruption in the United States', 'Cote Sans Dessein, Missouri', 'Cotiote War', 'Cotton', 'Council on Foreign Relations', 'County (United States)', 'Covert United States foreign regime change actions', 'Credit Island', 'Creek (people)', 'Creek War', 'Creek people', 'Crime in the United States', 'Criticism of the United States government', 'Cromwellian conquest of Ireland', 'Cruizer-class brig-sloop', 'Culture of the United States', 'Cumberland Island, Georgia', 'Cyprus Emergency', 'Cyrus-class ship-sloop', 'Dalhousie University', 'Dance in the United States', 'David Hannay (historian)', 'David Porter (naval officer)', 'Defense Intelligence Agency', 'Defense of the cutter Eagle', 'Delaware', 'Delaware Nation at Moraviantown', 'Delaware River', 'Demerara rebellion of 1823', 'Democratic Party (United States)', 'Democratic-Republican Party', 'Demographic history of the United States', 'Demographics of the United States', 'Detroit River', 'Dhofar Rebellion', 'Dictionary of Canadian Biography', 'Died of wounds', 'Director of National Intelligence', 'Discrimination based on hair texture in the United States', 'Discrimination in the United States', 'District of Columbia statehood movement', 'Donald Fixico', 'Donald R. Hickey', 'Dorr Rebellion', 'Downes Expedition', 'Duar War', 'Duel', \"Dummer's War\", 'Dundurn Press', 'East Coast of the United States', 'Eastern United States', 'Eastport, Maine', 'Ebenezer Seaver', 'Economic history of the United States', 'Economy of the United States', 'Economy of the United States by sector', 'Education in the United States', 'Educational attainment in the United States', 'Edward Codrington', 'Edward Pakenham', 'Egyptian–Ottoman War (1839–1841)', 'Elections in the United States', 'Elgin Military Museum', 'Embargo Act of 1807', 'Emin Pasha Relief Expedition', 'Encyclopædia Britannica Eleventh Edition', 'Energy in the United States', 'Energy policy of the United States', 'Engagements on Lake Huron', 'Engagements on Lake Ontario', 'English overseas possessions', 'Entente intervention in the Russian Civil War', 'Environmental education in the United States', 'Environmental issues in the United States', 'Environmental movement in the United States', 'Era of Good Feelings', 'Essex Decision', 'Eureka Rebellion', 'Eviction in the United States', 'Executive Office of the President of the United States', 'Expansionist', 'Expedition to Canton', 'Export', 'Falklands War', 'Family structure in the United States', 'Fashion in the United States', \"Father Le Loutre's War\", \"Father Rale's War\", 'Federal Bureau of Investigation', 'Federal Reporter', 'Federal Reserve', 'Federal drug policy of the United States', 'Federal enclave', 'Federal government of the United States', 'Federal judiciary of the United States', 'Federal law enforcement in the United States', 'Federal preemption', 'Federalism in the United States', 'Federalist', 'Federalist Era', 'Federalist Party', 'Felix Grundy', 'Fencibles', 'Fenian raids', 'Financial position of the United States', 'First Anglo-Afghan War', 'First Anglo-Burmese War', 'First Anglo-Maratha War', 'First Anglo-Sikh War', 'First Bank of the United States', 'First Barbary War', \"First Battle of Sacket's Harbor\", 'First Boer War', 'First Carib War', 'First Fiji expedition', 'First French Empire', 'First Maroon War', 'First Matabele War', 'First Opium War', 'First Rohilla War', 'First Seminole War', 'First Sumatran expedition', 'First battle of Fort Bowyer', 'Flag of the United States', 'Flagship', 'Fleet action', 'Folklore of the United States', 'Foreign Affairs', 'Foreign policy of the United States', 'Foreign relations of the United States', 'Foreign trade of the United States', 'Formosa Expedition', 'Fort Belle Fontaine', 'Fort Bowyer', 'Fort Cap au Gris', 'Fort Conde', 'Fort Covington', 'Fort Dearborn', 'Fort Detroit', 'Fort Erie', 'Fort George, Ontario', 'Fort Henry National Historic Site', 'Fort Howard (Maryland)', 'Fort Jackson (Alabama)', 'Fort Johnson', 'Fort Lernoult', 'Fort Mackinac', 'Fort Madison', 'Fort Malden', 'Fort McHenry', 'Fort Mims', 'Fort Mims massacre', 'Fort Osage', 'Fort Pike', 'Fort Shelby (Michigan)', 'Fort Shelby (Wisconsin)', 'Fort Sinquefield', 'Fort St. Joseph (Ontario)', 'Fort St. Philip', 'Fort Strother', 'Fort Sullivan (Maine)', 'Fort Wayne', 'Fort York', 'Founding Fathers of the United States', 'Fourth Anglo-Mysore War', 'Fox (Native American)', 'Francis Scott Key', 'Francis de Rottenburg', 'Freedmen', 'French and Indian War', 'French invasion of Russia', 'French language in the United States', 'Frenchtown, Baltimore', \"Fries's Rebellion\", 'Frigate', 'Froberg mutiny', 'Full-rigged ship', 'Fur trade', \"Fédon's rebellion\", 'Gay liberation', 'Geography of the United States', 'George Cockburn', 'George Downie', 'George Izard', 'George Prévost', 'Georgia (U.S. state)', 'Georgia (US state)', 'Georgian Bay', 'German language in the United States', 'Ghent', 'Gilded Age', 'Google Books', 'Gordon Drummond', 'Governance of the United States', 'Government of the United States', 'Governor (United States)', 'Grand River (Ontario)', 'Great American Novel', \"Great Britain in the Seven Years' War\", 'Great Depression', 'Great Lakes', 'Great Lakes region', 'Great Plains', 'Great Recession in the United States', 'Greenhouse gas emissions by the United States', 'Gulf Coast', 'Gulf Coast of the United States', 'Gulf War', 'Gulf of Mexico', 'Gulf of Saint Lawrence', 'Gun politics in the United States', 'Gunboat', 'H. W. Brands', 'HMS Bold (1812)', 'HMS Boxer (1812)', 'HMS Brazen (1808)', 'HMS Carron (1813)', 'HMS Cherub (1806)', 'HMS Colibri (1809)', 'HMS Confiance (1814)', 'HMS Endymion (1797)', 'HMS Guerriere (1806)', 'HMS Hermes (1811)', 'HMS Java (1811)', 'HMS Leander (1813)', 'HMS Little Belt (1807)', 'HMS Newcastle (1813)', 'HMS Pelican (1812)', 'HMS Phoebe (1795)', 'HMS Pomone (1811)', 'HMS Reindeer (1804)', 'HMS Royal Oak (1809)', 'HMS Shannon (1806)', 'HMS St Lawrence (1814)', 'HMS Tenedos (1812)', 'Halifax Citadel', 'Halifax Resolves', 'Halifax, Nova Scotia', 'Hampden, Maine', 'Hampton Roads', 'Hartford Convention', 'Hawaiian sovereignty movement', 'Hawaiʻi Sign Language', 'Hazara Expedition of 1888', 'Health in the United States', 'Health insurance in the United States', 'Healthcare in the United States', 'Henry Adams', 'Henry Bathurst, 3rd Earl Bathurst', 'Henry Clay', 'Henry Dearborn', 'Henry Hope (Royal Navy officer)', 'Henry Procter (British Army officer)', 'Henry letters', 'Historiography of the War of 1812', 'History of American journalism', 'History of American newspapers', 'History of Seychelles', 'History of the Acadians', 'History of the Canadian Army', 'History of the Royal Canadian Air Force', 'History of the Royal Canadian Navy', 'History of the United States', 'History of the United States (1776–1789)', 'History of the United States (1789–1849)', 'History of the United States (1849–1865)', 'History of the United States (1865–1918)', 'History of the United States (1918–1945)', 'History of the United States (1945–1964)', 'History of the United States (1964–1980)', 'History of the United States (1980–1991)', 'History of the United States (1991–2008)', 'History of the United States (2008–present)', 'History of the United States debt ceiling', 'Home-ownership in the United States', 'Homelessness in the United States', 'Homestead strike', 'Household income in the United States', 'Housing in the United States', 'Hulk (ship type)', 'Human rights in the United States', 'Hunger in the United States', 'Hunza–Nagar Campaign', 'Ian Toll', 'Ikhwan revolt', 'Illegal immigration to the United States', 'Illinois', 'Illinois Territory', 'Illinois Territory in the War of 1812', 'Immigration to the United States', 'Imperial presidency', 'Impressment', 'Incarceration in the United States', 'Income inequality in the United States', 'Independence Day (United States)', 'Independent agencies of the United States government', 'Index of United States-related articles', 'Index of the United States-related articles', 'India', 'Indian Rebellion of 1857', 'Indian agent', 'Indian barrier state', 'Indian reservation', 'Indiana', 'Indiana Territory', 'Indiana in the War of 1812', 'Indigenous languages of the Americas', 'Indigenous peoples of the Americas', 'Indonesia–Malaysia confrontation', 'Industrial Revolution', 'Infrastructure of the United States', 'Insurance in the United States', 'International rankings of the United States', 'Internet Archive', 'Internet in the United States', 'Intersex rights in the United States', 'Intracoastal Waterway', 'Invasion of Ceylon', 'Invasion of Guadeloupe (1810)', 'Invasion of Guadeloupe (1815)', 'Invasion of Isle de France', 'Invasion of Java (1811)', 'Invasion of Martinique (1809)', 'Invasion of the Cape Colony', 'Invasion of the Spice Islands', 'Invasion of Île Bonaparte', 'Iraq War', 'Iraqi revolt of 1920', 'Irish Confederate Wars', 'Irish Rebellion of 1641', 'Irish Rebellion of 1798', 'Iroquoian languages', 'Iroquois', 'Irregular warfare', 'Isaac Brock', 'Isaac Chauncey', 'Islamophobia in the United States', 'Italian language in the United States', 'Ivory Coast expedition', 'Jacob Brown', 'Jamaica Station (Royal Navy)', 'James Fenimore Cooper', 'James FitzGibbon', 'James Fulton Zimmerman', 'James Lucas Yeo', 'James Madison', 'James Miller (general)', 'James Monroe', 'James Wilkinson', 'Jameson Raid', 'January 6 United States Capitol attack', 'Jay Treaty', 'Jebel Akhdar War', 'Jibe (sailing)', 'John Adams Harper', 'John Armstrong Jr.', 'John Borlase Warren', 'John Coape Sherbrooke', 'John Coffee', 'John Floyd (Georgia politician)', 'John Lambert (British Army officer)', 'John Macdonell', 'John Rodgers (1772–1838)', 'John Vincent (British Army officer)', 'John William Ward (professor)', 'Johnson County War', 'Jon Latimer', 'Joseph Wanton Morrison', 'Joshua Barney', 'Journal of American Studies', 'Kalinago Genocide of 1626', 'Kandyan Wars', 'Kent State shootings', 'Kentucky in the War of 1812', 'Kickapoo people', 'Killed in action', \"King George's War\", \"King Philip's War\", \"King William's War\", 'Kingston, Ontario', 'Komenda Wars', 'Korean War', 'LGBT rights in the United States', 'La Citadelle', 'Labor unions in the United States', 'Lake Champlain', 'Lake Erie', 'Lake Ontario', 'Languages of the United States', 'Laura Secord', 'Laura Secord Legacy Trail', 'Law of the United States', 'Leander affair', 'Lee Resolution', 'Lenape', 'Letters of marque', 'Lewiston, New York', 'Lincoln County War', 'Lists of populated places in the United States', 'Literacy in the United States', 'Little Belt affair', 'Liverpool', \"Lloyd's of London\", 'Local government in the United States', 'Long rifle', \"Lord Dunmore's War\", 'Louis M. Hacker', 'Louisiana', 'Louisiana (New France)', 'Louisiana Purchase', 'Louisiana Territory', 'Lower Canada', 'Lower Canada Rebellion', 'Loyalist (American Revolution)', 'Machias Seal Island', 'Machias, Maine', 'Mackenzie–Papineau Battalion', \"Macon's Bill Number 2\", 'Madison Barracks', 'Magazine (artillery)', 'Mahdist War', 'Mahmud Barzanji revolts', 'Main Poc', 'Maine', 'Malabar rebellion', 'Malayan Emergency', 'Manufacturing in the United States', 'Maritz rebellion', 'Maryland', 'Mass media in the United States', 'Mass surveillance in the United States', 'Mat Salleh Rebellion', 'Matale rebellion', 'Mateo González Manrique', 'Mau Mau rebellion', 'Maumee River', 'Melee weapon', 'Menominee', 'Mercantile', 'Merchant ships', 'Merikins', 'Meskwaki', 'Methodist Church', 'Mexican Border War (1910–1919)', 'Mexican–American War', 'Miami people', 'Michael Dwyer', 'Michigan', 'Michigan Territory', 'Mid-Atlantic (United States)', 'Midwestern United States', 'Milan Decree', 'Military history of Canada', 'Military history of Canada during the First World War', 'Military history of Canada during the Second World War', 'Military history of Nova Scotia', 'Military history of the Acadians', 'Military history of the Miꞌkmaq', 'Military history of the United States', 'Military history of the United States during World War II', 'Military intervention against ISIL', 'Military of New France', 'Military of the United States', 'Militia (United States)', 'Mining in the United States', 'Missing in action', 'Mississippi River', 'Mississippi Territory', 'Missouri', 'Missouri River', 'Missouri Territory', 'Mobile Point', 'Mobile, Alabama', 'Mohawk people', 'Mohawks', 'Mohmand blockade', 'Mohmand campaign of 1897–1898', 'Mohmand campaign of 1935', 'Monroe–Pinkney Treaty', 'Montreal', 'Morrisburg, Ontario', 'Mount Rushmore', 'Multinational Force in Lebanon', 'Muscogee', 'Muscogee (Creek)', 'Muscogee (Creek) Nation', 'Music of the United States', 'Musket', 'NATO bombing of Yugoslavia', 'NOAA Commissioned Officer Corps', 'Naming in the United States', 'Nancy (1789 ship)', 'Naning War', 'Napoleon', 'Napoleonic Wars', 'Narragansett, Rhode Island', \"Nat Turner's slave rebellion\", 'National Geospatial-Intelligence Agency', 'National Guard (United States)', 'National Park Service', 'National Reconnaissance Office', 'National Security Agency', 'National debt', 'National debt of the United States', 'National security of the United States', 'National symbols of the United States', 'Naturalization', 'Naval battle', 'New Brunswick', 'New England', 'New Ireland (Maine)', 'New London, Connecticut', 'New Orleans', 'New York (state)', 'New York City', 'New York Harbor', 'New Zealand Wars', 'Newfoundland expedition', 'Niagara Peninsula', 'Niagara River', 'Niagara-on-the-Lake', 'Nicholas A. M. Rodger', \"Nine Years' War (Ireland)\", 'Non-Intercourse Act (1809)', 'Nootka Crisis', 'Norfolk, Virginia', 'Norman K. Risjord', 'North America', 'North America and West Indies Station', 'North Carolina', 'North-West Rebellion', 'Northeastern United States', 'Northern United States', 'Northwest Indian War', 'Northwest Territory', 'Northwestern Confederacy', 'Northwestern United States', 'Nottawasaga Bay', 'Nova Scotia', 'Nuku Hiva Campaign', 'Obesity in the United States', 'Odawa', 'Ogdensburg, New York', 'Ohio', 'Ohio River', 'Ohio in the War of 1812', 'Ojibwe', 'Oklahoma', 'Oliver Hazard Perry', 'Ontario', 'Operation Deliberate Force', 'Operation Friction', 'Operation Impact', 'Operation Mobile', 'Operations against the Mohmands, Bunerwals and Swatis in 1915', 'Operations in the Tochi', 'Opposition to the War of 1812 in the United States', 'Order in Council', 'Orders in Council (1807)', 'Origins of the War of 1812', 'Osage River', 'Osprey Publishing', 'Ottawa (tribe)', 'Outline of the United States', 'Pacific Ocean', 'Patuxent River', 'Paul Hamilton (politician)', 'Peace movement', 'Pemaquid Point Light', 'Pemmican War', 'Peninsular War', 'Pensacola', 'Pensacola, Florida', 'Pequot War', 'Perak War', 'Perpetual Union', 'Persian Gulf campaign of 1809', 'Persian Gulf campaign of 1819', 'Personal income in the United States', 'Peter Buell Porter', 'Peter McQueen', 'Philip Broke', 'Philippine–American War', 'Phineas Riall', \"Pink's War\", 'Pioneer Column', 'Plains Indian Sign Language', 'Plantation', 'Plattsburgh, New York', 'Political ideologies in the United States', 'Political parties in the United States', 'Political status of Puerto Rico', 'Politics of the United States', 'Polygar Wars', \"Pontiac's Rebellion\", \"Pontiac's War\", 'Port Royal', 'Porter Expedition', 'Postage stamps and postal history of the United States', 'Potawatomi', 'Potomac Books', 'Potomac River', 'Poverty in the United States', 'Powers of the president of the United States', 'Prairie du Chien, Wisconsin', 'Pre-Columbian era', 'Prescott, Ontario', 'President of the United States', 'President pro tempore of the United States Senate', 'Principio Furnace', 'Privateer', 'Privateers', 'Proclamation of 1763', 'Progressive Era', 'Prophetstown State Park', 'Prospect Bluff Historic Sites', 'Protection papers', 'Provincial Marine', 'Public holidays in the United States', 'Public policy of the United States', 'Puerto Rican Nationalist Party revolts of the 1950s', 'Puerto Rico statehood movement', 'Purple America', 'Put-in-Bay, Ohio', 'Quarterdeck', 'Quasi-War', 'Quebec', 'Quebec City', \"Queen Anne's War\", 'Quota System (Royal Navy)', 'Race and ethnicity in the United States', 'Racism in the United States', 'Radio in the United States', 'Raid on Alexandria (Virginia)', 'Raid on Black Rock', 'Raid on Elizabethtown', 'Raid on Fort Schlosser', 'Raid on Gananoque', 'Raid on Havre de Grace', 'Raid on Port Dover', 'Raid on Sodus', 'Range war', 'Razee', 'Rebellions of 1837–1838', 'Reconstruction era', 'Red Jacket', 'Red River Rebellion', 'Red River of the South', 'Red Sticks', 'Red states and blue states', 'Regulator Movement', 'Religion in the United States', 'Republican Party (United States)', 'Results of the War of 1812', 'Revolt of Radharam', 'Revolt of Rajab Ali', 'Richard Mentor Johnson', 'Rio Grande', 'River Raisin', 'River Raisin Massacre', 'Roaring Twenties', 'Robert Jenkinson, 2nd Earl of Liverpool', 'Robert McDouall', 'Robert Ross (British Army officer)', 'Robert Ross (British army officer)', 'Robert Stewart, Viscount Castlereagh', 'Rocky Mountains', 'Roundhead (Wyandot)', 'Royal Marine', 'Royal Marines', 'Royal Naval Dockyard, Bermuda', 'Royal Navy', 'Rule of 1756', 'Rush–Bagot Treaty', 'Russian language in the United States', \"Sackett's Harbor, New York\", 'Same-sex marriage in the United States', 'Sandusky River', 'Sandy Hook', 'Sauk people', 'Savannah, Georgia', 'Schooner', 'Science and technology in the United States', 'Second Anglo-Afghan War', 'Second Anglo-Burmese War', 'Second Anglo-Dutch War', 'Second Anglo-Maratha War', 'Second Anglo-Mysore War', 'Second Anglo-Sikh War', 'Second Barbary War', \"Second Battle of Sacket's Harbor\", 'Second Battle of St. Michaels', 'Second Boer War', 'Second Fiji expedition', 'Second Maroon War', 'Second Matabele War', 'Second Opium War', 'Second Rohilla War', 'Second Sumatran expedition', 'Second battle of Fort Bowyer', 'Second-wave feminism', 'Secretary of State for War and the Colonies', 'Seminole', 'Seneca people', 'Separation of church and state in the United States', 'Separation of powers under the United States Constitution', 'September 11 attacks', 'Seringapatam Mutiny', \"Seven Years' War\", 'Sexuality in the United States', 'Shawnee', \"Shays' Rebellion\", 'Shimonoseki campaign', 'Ship of the line', 'Ship-sloop', 'Shipwright', \"Shirley's Gold Coast expedition\", 'Siege of Detroit', 'Siege of Fort Erie', 'Siege of Fort Harrison', 'Siege of Fort Mackinac', 'Siege of Fort Meigs', 'Siege of Fort St. Philip (1815)', 'Siege of Fort Wayne', 'Siege of Malakand', 'Siege of Malta (1798–1800)', 'Siege of Prairie du Chien', 'Siege of Santo Domingo of 1808', 'Sierra Nevada', 'Sine qua non', 'Sinking of HMS Avon', 'Sinking of HMS Peacock', 'Sinking of HMS Reindeer', 'Sioux', 'Sir George Cockburn, 10th Baronet', 'Sir Peter Parker, 2nd Baronet', 'Six Nations of the Grand River', 'Six-Day War (1899)', \"Sixty Years' War\", 'Skirmish at Farnham Church', \"Slachter's Nek Rebellion\", 'Slave state', 'Slave states and free states', 'Slavery in the United States', 'Sloop of war', 'Sloop-of-war', 'Smithsonian Magazine', 'Social class in the United States', 'Social programs in the United States', 'Society of the United States', 'Somali Civil War', 'Somaliland campaign', 'South Carolina', 'South Carolina Lowcountry', 'Southeastern United States', 'Southern United States', 'Southwestern United States', 'Space Race', 'Spanish Empire', 'Spanish Florida', 'Spanish language in the United States', 'Spanish–American War', 'Speaker of the United States House of Representatives', 'Special Relationship', 'Spencer Perceval', 'Sports in the United States', \"St. George's Harbour, Bermuda\", 'St. Lawrence River', 'St. Louis', 'St. Simons, Georgia', 'Stalemate', 'Stamp Act Congress', 'Standard of living in the United States', 'Standing army', 'State court (United States)', 'State defense force', 'State governments of the United States', 'State legislature (United States)', 'Statue of Liberty', 'Status quo ante bellum', 'Stephen Decatur', 'Stephen Girard', 'Stephen Van Rensselaer', 'Suez Crisis', 'Supreme Court of the United States', 'Surrender of French Mills', \"Tacky's War\", 'Tallapoosa River', 'Tanker War', 'Tariff', 'Taxation in the United States', 'Technological and industrial history of the United States', 'Tecumseh', \"Tecumseh's Confederacy\", \"Tecumseh's War\", \"Tecumseh's confederacy\", 'Television in the United States', 'Tenskwatawa', 'Territorial evolution of the United States', 'Territories of the United States', 'Terrorism in the United States', 'Texas annexation', 'The Bold Canadian', 'The Buffalo News', 'The Canadas', 'The Canadian Crown and the Canadian Forces', 'The Hunters of Kentucky', 'The Star-Spangled Banner', 'Theater in the United States', 'Theodore Roosevelt', 'Third Anglo-Afghan War', 'Third Anglo-Burmese War', 'Third Anglo-Dutch War', 'Third Anglo-Maratha War', 'Third Anglo-Mysore War', 'Third party (United States)', 'Thirteen Colonies', 'Thomas Henry Barclay', 'Thomas Jefferson', 'Thomas Macdonough', 'Thomas Masterman Hardy', 'Thomas Pinckney', 'Thomas Van Horne', 'Time in the United States', 'Timeline of United States discoveries', 'Timeline of United States inventions', 'Timeline of United States inventions (1890–1945)', 'Timeline of United States inventions (1946–1991)', 'Timeline of United States inventions (after 1991)', 'Timeline of United States inventions (before 1890)', 'Timeline of United States military operations', 'Timeline of drafting and ratification of the United States Constitution', 'Timeline of the War of 1812', 'Tirah campaign', 'Tobacco in the United States', 'Tomahawk', 'Tourism in the United States', 'Trading post', 'Transport in the United States', 'Transportation in the United States', 'Trapping', 'Treasury Note (19th century)', 'Treaty of 1818', 'Treaty of Fort Jackson', 'Treaty of Fort Wayne (1803)', 'Treaty of Fort Wayne (1809)', 'Treaty of Ghent', 'Treaty of Greenville', 'Treaty of Grouseland', 'Treaty of Paris (1783)', 'Treaty of St. Louis (1804)', 'Treaty of Vincennes', 'Trinidad', 'Tukabatchee', 'Tulsa race massacre', 'Tuscarora War', 'Tuscarora people', 'U.S. state', 'U.S. territorial sovereignty', 'USS Adams (1799)', 'USS Argus (1803)', 'USS Chesapeake (1799)', 'USS Congress (1799)', 'USS Constitution', 'USS Constitution vs HMS Guerriere', 'USS Enterprise (1799)', 'USS Essex (1799)', 'USS Essex Junior', 'USS Essex vs HMS Alert', 'USS Frolic (1813)', 'USS Hornet (1805)', 'USS Macedonian', 'USS Madison (1812)', 'USS Peacock (1813)', 'USS President (1800)', 'USS United States', 'USS United States vs HMS Macedonian', 'USS Wasp (1807)', 'USS Wasp (1813)', 'USS Wasp (1814)', 'Uncle Sam', 'Unemployment in the United States', 'Uniformed services of the United States', 'United Colonies', 'United Irish Uprising in Newfoundland', 'United Kingdom', 'United Kingdom of Great Britain and Ireland', 'United States', 'United States Air Force', 'United States Armed Forces', 'United States Army', 'United States Bill of Rights', 'United States Capitol', 'United States Coast Guard', 'United States Code', 'United States Congress', 'United States Declaration of Independence', 'United States Electoral College', 'United States House of Representatives', 'United States Intelligence Community', 'United States Marine Corps', 'United States Marines', 'United States Merchant Marine', 'United States Minor Outlying Islands', 'United States Navy', 'United States Public Health Service Commissioned Corps', 'United States Rangers in the War of 1812', 'United States Reports', 'United States Revenue Cutter Service', 'United States Secretary of State', 'United States Senate', 'United States Space Force', 'United States courts of appeals', 'United States declaration of war upon the United Kingdom', 'United States district court', 'United States dollar', 'United States expedition to Korea', 'United States federal budget', 'United States federal civil service', 'United States federal executive departments', 'United States historical military districts', 'United States home front during World War II', 'United States in World War I', 'United States invasion of Grenada', 'United States invasion of Panama', 'United States military casualties of war', 'United States occupation of the Dominican Republic (1965–66)', 'Upper Canada', 'Upper Canada Rebellion', 'Upper Mississippi River', 'Utah War', 'Uti possidetis', 'Valparaíso', 'Vice President of the United States', 'Viceroyalty of New Spain', 'Video games in the United States', 'Vietnam War', 'Virginia', 'Visual art of the United States', 'Wade Hampton I', 'Wall Street', 'Waltham, Massachusetts', 'War Hawks', 'War hawk', 'War in Afghanistan (2001–2021)', 'War in North-West Pakistan', 'War in Vietnam (1945–1946)', 'War of 1812', 'War of 1812 Campaigns', 'War of 1812 campaigns', \"War of Jenkins' Ear\", 'War on Terror', 'War on terror', 'Washington Navy Yard', 'Washington, D.C.', 'Water supply and sanitation in the United States', 'Waziristan campaign (1919–1920)', 'Waziristan campaign (1936–1939)', 'Weather gauge', 'West Coast of the United States', 'West Florida', 'West India Regiments', 'Western Great Lakes forests', 'Western United States', 'Whiskey Rebellion', 'White House', 'Wikisource', 'William Bainbridge', 'William H. Winder', 'William Henry Harrison', 'William Hull', 'William James (naval historian)', 'William Jones (statesman)', 'William Mulcaster', 'William Weatherford', 'William Widgery', 'Williamite War in Ireland', 'Windsor, Ontario', 'Winfield Scott', 'Wisconsin', \"Women's suffrage in the United States\", 'World War I', 'World War II', 'Wounded in action', 'Woyane rebellion', 'Wyandot people', 'Xhosa Wars', 'Yamasee War', 'Yemeni Civil War (2014–present)', 'York, Upper Canada', 'Young Teazer', 'Yukon River', 'Zachary Taylor', 'Åland War']\n",
      "['1916 South American Championship', '1917 South American Championship', '1919 South American Championship', '1920 South American Championship', '1921 South American Championship', '1922 South American Championship', '1923 South American Championship', '1924 South American Championship', '1925 South American Championship', '1926 South American Championship', '1927 South American Championship', '1929 South American Championship', '1930 FIFA World Cup', '1934 FIFA World Cup', '1935 South American Championship', '1937 South American Championship', '1938 FIFA World Cup', '1939 South American Championship', '1941 South American Championship', '1942 South American Championship', '1945 South American Championship', '1946 South American Championship', '1947 South American Championship', '1949 South American Championship', '1950 FIFA World Cup', '1953 South American Championship', '1954 FIFA World Cup', '1955 South American Championship', '1955–56 European Cup', \"1956 Ballon d'Or\", '1956 South American Championship', '1956–57 European Cup', \"1957 Ballon d'Or\", '1957 South American Championship', '1957–58 European Cup', \"1958 Ballon d'Or\", '1958 FIFA World Cup', '1958–59 European Cup', \"1959 Ballon d'Or\", '1959 South American Championship (Argentina)', '1959 South American Championship (Ecuador)', '1959–60 European Cup', \"1960 Ballon d'Or\", '1960–61 European Cup', \"1961 Ballon d'Or\", '1961–62 European Cup', \"1962 Ballon d'Or\", '1962 FIFA World Cup', '1962–63 European Cup', \"1963 Ballon d'Or\", '1963 South American Championship', '1963–64 European Cup', \"1964 Ballon d'Or\", '1964–65 European Cup', \"1965 Ballon d'Or\", '1965–66 European Cup', \"1966 Ballon d'Or\", '1966 FIFA World Cup', '1966–67 European Cup', \"1967 Ballon d'Or\", '1967 South American Championship', '1967–68 European Cup', \"1968 Ballon d'Or\", '1968–69 European Cup', \"1969 Ballon d'Or\", '1969–70 European Cup', \"1970 Ballon d'Or\", '1970 FIFA World Cup', '1970–71 European Cup', \"1971 Ballon d'Or\", '1971–72 European Cup', \"1972 Ballon d'Or\", '1972–73 Bundesliga', '1972–73 European Cup', \"1973 Ballon d'Or\", '1973–74 European Cup', \"1974 Ballon d'Or\", '1974 FIFA World Cup', '1974–75 European Cup', \"1975 Ballon d'Or\", '1975 Copa América', '1975–76 European Cup', \"1976 Ballon d'Or\", '1976–77 European Cup', \"1977 Ballon d'Or\", '1977 FIFA World Youth Championship', '1977–78 European Cup', \"1978 Ballon d'Or\", '1978 FIFA World Cup', '1978–79 European Cup', \"1979 Ballon d'Or\", '1979 Copa América', '1979 FIFA World Youth Championship', '1979–80 European Cup', \"1980 Ballon d'Or\", '1980–81 European Cup', \"1981 Ballon d'Or\", '1981 FIFA World Youth Championship', '1981–82 European Cup', \"1982 Ballon d'Or\", '1982 FIFA World Cup', '1982–83 European Cup', \"1983 Ballon d'Or\", '1983 Copa América', '1983 FIFA World Youth Championship', '1983–84 European Cup', \"1984 Ballon d'Or\", '1984–85 European Cup', \"1985 Ballon d'Or\", '1985 FIFA World Youth Championship', '1985–86 European Cup', \"1986 Ballon d'Or\", '1986 FIFA World Cup', '1986–87 European Cup', \"1987 Ballon d'Or\", '1987 Copa América', '1987 FIFA World Youth Championship', '1987–88 European Cup', \"1988 Ballon d'Or\", '1988–89 European Cup', \"1989 Ballon d'Or\", '1989 Copa América', '1989 FIFA World Youth Championship', '1989–90 European Cup', \"1990 Ballon d'Or\", '1990 FIFA World Cup', '1990 FIFA World Cup Final', '1990–91 European Cup', \"1991 Ballon d'Or\", '1991 Copa América', '1991 FIFA World Player of the Year', '1991 FIFA World Youth Championship', '1991–92 European Cup', \"1992 Ballon d'Or\", '1992 FIFA World Player of the Year', '1992–93 UEFA Champions League', \"1993 Ballon d'Or\", '1993 Copa América', '1993 FIFA World Player of the Year', '1993 FIFA World Youth Championship', '1993–94 UEFA Champions League', \"1994 Ballon d'Or\", '1994 FIFA World Cup', '1994 FIFA World Player of the Year', '1994–95 UEFA Champions League', \"1995 Ballon d'Or\", '1995 Copa América', '1995 FIFA World Player of the Year', '1995 FIFA World Youth Championship', '1995–96 UEFA Champions League', \"1996 Ballon d'Or\", '1996 FIFA World Player of the Year', '1996–97 FC Barcelona season', '1996–97 UEFA Champions League', \"1997 Ballon d'Or\", '1997 Copa América', '1997 FIFA World Player of the Year', '1997 FIFA World Youth Championship', '1997–98 UEFA Champions League', \"1998 Ballon d'Or\", '1998 FIFA World Cup', '1998 FIFA World Player of the Year', '1998–99 UEFA Champions League', \"1999 Ballon d'Or\", '1999 Copa América', '1999 FIFA World Player of the Year', '1999 FIFA World Youth Championship', '1999–2000 UEFA Champions League', \"2000 Ballon d'Or\", '2000 FIFA Club World Championship', '2000 FIFA World Player of the Year', '2000–01 UEFA Champions League', \"2001 Ballon d'Or\", '2001 Copa América', '2001 FIFA World Player of the Year', '2001 FIFA World Youth Championship', '2001–02 UEFA Champions League', \"2002 Ballon d'Or\", '2002 FIFA World Cup', '2002 FIFA World Player of the Year', '2002–03 Arsenal F.C. season', '2002–03 FA Premier League', '2002–03 UEFA Champions League', \"2003 Ballon d'Or\", '2003 FIFA World Player of the Year', '2003 FIFA World Youth Championship', '2003–04 Copa del Rey', '2003–04 FC Barcelona season', '2003–04 Segunda División B', '2003–04 Tercera División', '2003–04 UEFA Champions League', \"2004 Ballon d'Or\", '2004 Copa América', '2004 FIFA World Player of the Year', '2004–05 FC Barcelona season', '2004–05 La Liga', '2004–05 Segunda División B', '2004–05 UEFA Champions League', \"2005 Ballon d'Or\", '2005 FIFA Club World Cup', '2005 FIFA World Player of the Year', '2005 FIFA World Youth Championship', '2005 South American U-20 Championship', '2005–06 FC Barcelona season', '2005–06 La Liga', '2005–06 UEFA Champions League', '2005–06 UEFA Champions League knockout stage', \"2006 Ballon d'Or\", '2006 FIFA Club World Cup', '2006 FIFA World Cup', '2006 FIFA World Player of the Year', '2006 Supercopa de España', '2006 UEFA Champions League Final', '2006–07 Copa del Rey', '2006–07 FC Barcelona season', '2006–07 La Liga', '2006–07 UEFA Champions League', '2006–07 UEFA Champions League knockout stage', \"2007 Ballon d'Or\", '2007 Copa América', '2007 Copa del Rey Final', '2007 FIFA Club World Cup', '2007 FIFA U-20 World Cup', '2007 FIFA World Player of the Year', '2007–08 FC Barcelona season', '2007–08 La Liga', '2007–08 UEFA Champions League', '2007–08 UEFA Champions League knockout stage', \"2008 Ballon d'Or\", '2008 FIFA Club World Cup', '2008 FIFA World Player of the Year', '2008 Summer Olympics', '2008 UEFA Champions League Final', '2008–09 Copa del Rey', '2008–09 FC Barcelona season', '2008–09 La Liga', '2008–09 UEFA Champions League', '2008–09 UEFA Champions League knockout phase', \"2009 Ballon d'Or\", '2009 Copa del Rey Final', '2009 FIFA Club World Cup', '2009 FIFA U-20 World Cup', '2009 FIFA World Player of the Year', '2009 Supercopa de España', '2009 UEFA Champions League Final', '2009 UEFA Super Cup', '2009–10 Copa del Rey', '2009–10 FC Barcelona season', '2009–10 La Liga', '2009–10 UEFA Champions League', '2009–10 UEFA Champions League knockout phase', \"2010 FIFA Ballon d'Or\", '2010 FIFA Club World Cup', '2010 FIFA World Cup', '2010 Haiti earthquake', '2010 Supercopa de España', '2010–11 FC Barcelona season', '2010–11 La Liga', '2010–11 UEFA Champions League', '2010–11 UEFA Champions League knockout phase', '2011 Copa América', '2011 Copa del Rey Final', \"2011 FIFA Ballon d'Or\", '2011 FIFA Club World Cup', '2011 FIFA Club World Cup Final', '2011 FIFA U-20 World Cup', '2011 Supercopa de España', '2011 Tōhoku earthquake and tsunami', '2011 UEFA Champions League Final', '2011 UEFA Super Cup', '2011–12 Copa del Rey', '2011–12 FC Barcelona season', '2011–12 La Liga', '2011–12 UEFA Champions League', '2011–12 UEFA Champions League knockout phase', \"2012 FIFA Ballon d'Or\", '2012 FIFA Club World Cup', '2012 UEFA Champions League Final', '2012–13 Copa del Rey', '2012–13 FC Barcelona season', '2012–13 La Liga', '2012–13 UEFA Champions League', '2012–13 UEFA Champions League knockout phase', \"2013 FIFA Ballon d'Or\", '2013 FIFA Club World Cup', '2013 FIFA U-20 World Cup', '2013 Supercopa de España', '2013–14 Copa del Rey', '2013–14 FC Barcelona season', '2013–14 La Liga', '2013–14 UEFA Champions League', '2014 Copa del Rey Final', \"2014 FIFA Ballon d'Or\", '2014 FIFA Club World Cup', '2014 FIFA World Cup', '2014 FIFA World Cup Final', '2014–15 Copa del Rey', '2014–15 FC Barcelona season', '2014–15 La Liga', '2014–15 UEFA Champions League', '2014–15 UEFA Champions League knockout phase', '2015 Copa América', '2015 Copa América Final', '2015 Copa del Rey Final', \"2015 FIFA Ballon d'Or\", '2015 FIFA Club World Cup', '2015 FIFA Club World Cup Final', '2015 FIFA U-20 World Cup', '2015 UEFA Champions League Final', '2015 UEFA Super Cup', '2015–16 Copa del Rey', '2015–16 FC Barcelona season', '2015–16 La Liga', '2015–16 UEFA Champions League', '2015–16 UEFA Champions League knockout phase', \"2016 Ballon d'Or\", '2016 Copa América', '2016 Copa del Rey Final', '2016 FIFA Club World Cup', '2016 Supercopa de España', '2016–17 Copa del Rey', '2016–17 FC Barcelona season', '2016–17 La Liga', '2016–17 Serie A', '2016–17 UEFA Champions League', \"2017 Ballon d'Or\", '2017 Catalan independence referendum', '2017 Copa del Rey Final', '2017 FIFA Club World Cup', '2017 FIFA U-20 World Cup', '2017 Supercopa de España', '2017–18 Copa del Rey', '2017–18 FC Barcelona season', '2017–18 La Liga', '2017–18 UEFA Champions League', '2017–18 UEFA Champions League knockout phase', \"2018 Ballon d'Or\", '2018 Copa del Rey Final', '2018 FIFA Club World Cup', '2018 FIFA World Cup', '2018 FIFA World Cup qualification (CONMEBOL)', '2018 Supercopa de España', '2018 World Cup', '2018–19 FC Barcelona season', '2018–19 La Liga', '2018–19 UEFA Champions League', '2018–19 UEFA Champions League group stage', '2018–19 UEFA Champions League knockout phase', \"2019 Ballon d'Or\", '2019 Copa América', '2019 Copa del Rey Final', '2019 FIFA Club World Cup', '2019 FIFA U-20 World Cup', '2019 Superclásico de las Américas', '2019 UEFA Champions League Final', '2019–20 FC Barcelona season', '2019–20 La Liga', '2019–20 UEFA Champions League', '2020 FIFA Club World Cup', '2020–21 Copa del Rey', '2020–21 FC Barcelona season', '2020–21 La Liga', '2020–21 Supercopa de España Final', '2020–21 UEFA Champions League', '2020–21 UEFA Champions League knockout phase', \"2021 Ballon d'Or\", '2021 Copa América', '2021 Copa América Final', '2021 Copa del Rey Final', '2021 FIFA Club World Cup', '2021–22 Ligue 1', '2021–22 Paris Saint-Germain F.C. season', '2021–22 UEFA Champions League', '2021–22 UEFA Champions League knockout phase', \"2022 Ballon d'Or\", '2022 FIFA World Cup', '2022 FIFA World Cup qualification (CONMEBOL)', '2022 Finalissima', '2022 Trophée des Champions', '2022–23 Paris Saint-Germain F.C. season', '90min', 'A.C. Milan', 'A.S. Roma', 'AS Saint-Étienne', 'Abderrazak Hamdallah', 'Achraf Hakimi', 'Adama Traoré (footballer, born 28 June 1995)', 'Adaílton (footballer, born 1977)', 'Ademir de Menezes', 'Adidas', 'Adolfo Pedernera', 'Adriano (footballer, born 20 September 1974)', 'Adriano (footballer, born February 1982)', 'Adriatic Sea', 'Adrián Coria', 'Afonso Alves', 'Agustín Marchesín', 'Agustín Orión', 'Agustín Rossi', 'Aitana Bonmatí', 'Aitor Huegún', 'Al Ahli SC (Doha)', 'Albacete Balompié', 'Albert Pujols', 'Alberto Márcico', 'Alberto Olmedo', 'Alcides Silveira', 'Alejandro Sabella', 'Alejandro Suárez Castroagudín', 'Aleksandrs Čekulajevs', 'Alemão (footballer born 1961)', 'Alessandro Del Piero', 'Alex (footballer, born 1977)', 'Alex Ferguson', 'Alexander Isak', 'Alexandre Letellier', 'Alexandre Pato', 'Alexia Putellas', 'Alexis Mac Allister', 'Alexis Sánchez', 'Alfio Basile', 'Alfredo Carricaberry', 'Alfredo Di Stéfano', 'Algeria national football team', 'Ali Daei', 'Alisson', 'Allan Simonsen', 'Ally McCoist', 'Alphonso Davies', 'Amado Guevara', 'Amancio (footballer)', 'Américo Tesoriere', 'Anderson (footballer, born 1988)', 'Andrea Pirlo', 'Andrew Robertson', 'Andriy Lunin', 'Andriy Shevchenko', 'Andrés Iniesta', 'Anfield', 'Angélica Gorodischer', 'Antal Dunai', 'Anthony Martial', 'Antoine Griezmann', 'Anton Polster', 'Antonio José Rivera Mínguez', 'Antonis Antoniadis', 'Araújo (footballer, born 1977)', 'Argentina', 'Argentina National Football Team', 'Argentina Olympic football team', 'Argentina national football team', 'Argentina national under-20 football team', 'Argentina national under-23 football team', 'Argentina v England (1986 FIFA World Cup)', 'Argentine Football Association', 'Argentine Footballer of the Year', 'Argentine Primera División', 'Argentine peso', 'Argentines', 'Ariel Garcé', 'Arjen Robben', 'Arnoldo Iguarán', 'Arsen Avetisyan', 'Arsenal F.C.', 'Arsène Wenger', 'Arthur Friedenreich', 'Artist', 'Arturo Vidal', 'Ashley Cole', 'Asier Villalibre', 'Assist (association football)', 'Association football', 'Association football positions', 'Athletic Bilbao', 'Atlético Madrid', 'Audemars Piguet', 'Augusto Fernández', 'Aurelio González (footballer)', 'Australia national under-23 soccer team', 'Austria national football team', 'BBC Sport', 'Bader Al-Mutawa', 'Baghdad Bounedjah', \"Ballon d'Or\", \"Ballon d'Or Dream Team\", \"Ballon d'Or Féminin\", 'Baltazar (footballer, born 1959)', 'Barcelona B', 'Barcelona, Spain', 'Barracas, Buenos Aires', 'Bata (footballer)', 'Bayer 04 Leverkusen', 'Bebeto', 'Belgium national football team', 'Bent Løfqvist', 'Berlin', 'Bernd Schuster', 'Best International Athlete ESPY Award', 'Bismarck (footballer)', 'Bleacher Report', 'Bobby Charlton', 'Bobby Moore', 'Boca Juniors', 'Bojan Krkić', 'Bolivia national football team', 'Borislav Cvetković', 'Borja Iglesias', 'Borussia Dortmund', 'Bosnia and Herzegovina national football team', 'Brazil national football team', 'Brazil national under-23 football team', 'Budweiser', 'Bulgaria national football team', 'Buyout clause', 'CA Osasuna', 'CBSSports.com', 'CD Leganés', 'CNN', 'CONMEBOL', 'CONMEBOL–UEFA Cup of Champions', 'COVID-19', 'COVID-19 pandemic', 'COVID-19 vaccine', 'Cafu', 'Caio Ribeiro', 'Calf (leg)', 'Camp Nou', 'Canelones, Uruguay', 'Captain (association football)', 'Carles Puyol', 'Carles Rexach', 'Carli Lloyd', 'Carlos Aguilera (Uruguayan footballer)', 'Carlos Alberto Raffo', 'Carlos Alberto Torres', 'Carlos Alfaro Moreno', 'Carlos Caszely', 'Carlos Navarro Montoya', 'Carlos Ruiz (footballer, born 1948)', 'Carlos Soler (footballer)', 'Carlos Tevez', 'Carlos Valderrama', 'Casemiro', 'Castelldefels', 'Cata Díaz', 'Catalonia', 'Catholic Church', 'Cayetano Ré', 'Celtic F.C.', 'Cesc Fàbregas', 'Charles Aránguiz', 'Chelsea F.C.', 'Chile national football team', 'Chip (association football)', 'Christian Cueva', 'Christian Vieri', 'Christophe Galtier', 'Ciro Immobile', 'Clarence Seedorf', 'Claudio Bravo', 'Claudio López (footballer)', 'Claudio Sulser', 'Clemente Rodríguez', 'Club Atlético River Plate', 'Club Brugge KV', 'Coach (sport)', 'Colombia national football team', 'Constantin Gâlcă', 'Copa América', 'Copa América Centenario', 'Copa América Centenario Final', 'Copa América Centenario statistics', 'Copa América records and statistics', 'Copa del Rey', 'CoronaVac', 'Costa Rica national football team', 'Coupe de France', 'Cristian Ansaldi', 'Cristian Pavón', 'Cristian Romero (footballer, born 1998)', 'Cristiano Ronaldo', 'Croatia national football team', 'Cross (football)', 'Curl (football)', 'Czech Republic national football team', 'Cássio (footballer, born 1987)', 'César Delgado', 'César Luis Menotti', 'César Menotti', 'César Obando', 'César Rodríguez (footballer, born 1920)', 'DR Congo national football team', 'Dani Alves', 'Dani Güiza', 'Daniel Passarella', 'Daniel Rivera', 'Danilo Pereira', 'Darko Pančev', 'Darío Benedetto', 'Darío Grandinetti', 'David Alaba', 'David Arellano', 'David Beckham', 'David Luiz', 'David Taylor (Welsh footballer)', 'David Villa', 'Deco', 'Defender (association football)', 'Denis Law', 'Dennis Bergkamp', 'Dennis Viollet', 'Deportivo Alavés', 'Deportivo de La Coruña', 'Derbi barceloní', 'Didi (footballer, born 1928)', 'Didier Drogba', 'Diego Buonanotte', 'Diego Costa', 'Diego Forlán', 'Diego Godín', 'Diego Klimowicz', 'Diego Lugano', 'Diego Maradona', 'Diego Milito', 'Diego Pozo', 'Diego Simeone', 'Diego Tristán', 'Dieter Hoeneß', 'Direct free kick', 'Diving (association football)', 'Doctors Without Borders', 'Doha', 'Dolce & Gabbana', 'Domingos da Guia', 'Dominic Adiyiah', 'Dominic Solanke', 'Don Balón Award', 'Doni (footballer)', 'Dorin Mateuț', 'Double (association football)', 'Dribbling', 'Dudu Georgescu', 'Dunga', 'Dwight Yorke', 'Dzsenifer Marozsán', 'EA Sports', 'Ebenezer Assifuah', 'Ecuador national football team', 'Eddie Johnson (American soccer)', 'Eden Hazard', 'Edgardo Bauza', 'Edinson Cavani', 'Edmundo Suárez', 'Eduard Markarov', 'Eduardo Rodríguez Fernández', 'Eduardo Salvio', 'Eduardo Vargas', 'Edwin van der Sar', 'Edílson', 'El Clásico', 'Ellen White (footballer)', 'Emanuel Biancucchi', 'Emiliano Martínez', 'Emilio Butragueño', 'Emirates Stadium', 'Emílio Peixe', 'England national football team', 'Enrique Hormazábal', 'Enrique Porta', 'Enzo Fernández (footballer, born 2001)', 'Enzo Francescoli', 'Enzo Pérez', 'Eponyms', 'Eric Abidal', 'Eric Cantona', 'Erik Lamela', 'Erling Haaland', 'Erminio Blotta', 'Ernesto \"Che\" Guevara', 'Ernesto Díaz', 'Ernesto Valverde', 'Erwin Vandenbergh', 'Estadio Marcelo Bielsa', 'Esteban Alvarado', 'Esteban Cambiasso', 'Estonia national football team', 'Estudiantes de La Plata', 'Eugenio Morel', 'European Cup and UEFA Champions League records and statistics', 'European Golden Shoe', 'European Sports Media', 'European association football club records', 'Eusébio', 'Everton Soares', 'Ewerthon', 'Exequiel Palacios', 'Ezequiel Garay', 'Ezequiel Lavezzi', 'FC Barcelona', 'FC Barcelona (youth)', 'FC Barcelona 2–8 FC Bayern Munich', 'FC Barcelona B', 'FC Barcelona C', 'FC Barcelona Museum', 'FC Bayern Munich', 'FC Nantes', 'FC Porto', 'FC Shakhtar Donetsk', 'FIFA', 'FIFA (video game series)', 'FIFA 13', 'FIFA 14', 'FIFA 16', \"FIFA Ballon d'Or\", 'FIFA Club World Cup', 'FIFA Club World Cup awards', 'FIFA U-20 World Cup', 'FIFA World Cup', 'FIFA World Cup Trophy', 'FIFA World Cup awards', 'FIFA World Cup qualification', 'FIFA World Player of the Year', 'FIFA World Youth Championship', 'FIFPro', 'Fabio Cannavaro', 'Fabio Capello', 'Fabián Monzón', 'Fabián Ruiz', 'Fabricio Coloccini', 'Facundo Roncaglia', 'Federer–Nadal rivalry', 'Federico Fazio', 'Federico Fernández (footballer)', 'Ferenc Puskás', 'Ferenc Puskás Stadium (1953)', 'Ferencvárosi TC', 'Fernando Belluschi', 'Fernando Gago', 'Fernando Gomes (Portuguese footballer)', 'Fernando Hierro', 'Fernando Morientes', 'Fernando Redondo', 'Fernando Torres', 'Fidel Uriarte', 'Film', 'Fito Páez', 'Flórián Albert', 'Football at the 1992 Summer Olympics', 'Football at the 2008 Summer Olympics', \"Football at the 2008 Summer Olympics – Men's tournament\", 'Football at the Summer Olympics', 'Football player', 'Football records in Spain', 'Forbes', \"Forbes' list of the world's highest-paid athletes\", 'Fortes (footballer)', 'Forward (association football)', 'Fouls and misconduct (association football)', 'FourFourTwo', 'Fox News Channel', 'France Bleu', 'France Football', 'France national football team', 'Francesco Totti', 'Francisco Molina', 'Franck Ribéry', 'Franco Armani', 'Franco Baresi', 'Franco Cucinotta', 'Frank Lampard', 'Frank Rijkaard', 'Franz Beckenbauer', 'Freddie Woodman', 'Free kick (association football)', 'Frenkie de Jong', 'Gabriel Batistuta', 'Gabriel Heinze', 'Gabriel Mercado', 'Gabriel Milito', 'Gabriel Moya', 'Gaizka Mendieta', 'Gareth Bale', 'Garrincha', 'Gary Medel', 'Gavi (footballer)', 'George Best', 'George Weah', 'Georgi Slavkov', 'Geovani Faria da Silva', 'Geovani Silva', 'Gerard Piqué', 'Gerardo Martino', 'Gerd Müller', 'Germany national football team', 'Germán Pezzella', 'Gerónimo Rulli', 'Getafe CF', 'Gheorghe Hagi', 'Gianluigi Buffon', 'Gianluigi Donnarumma', 'Gianni Rivera', 'Gilberto Silva', 'Gillette (brand)', 'Giorgio Chiellini', 'Giovani Lo Celso', 'Giuseppe Meazza', 'Globe Soccer Awards', 'Goal (website)', 'Goal celebration', 'Goalkeeper (association football)', 'Golden Boy (award)', 'Gonzalo Higuaín', 'Gonzalo Montiel', 'Graeme Souness', 'Granada CF', 'Greece national football team', 'Groin', 'Growth hormone deficiency', 'Growth hormone treatment', 'Grzegorz Krychowiak', 'Guatemala national football team', 'Guido Pizarro', 'Guido Rodríguez', 'Guillem Balagué', 'Guillermo Gianninazzi', 'Guillermo Gorostiza', 'Guillermo de Amores', 'Guina', 'Guinness World Records', 'Guti', 'Guus Hiddink', 'Hakan Şükür', 'Hani Al-Dhabit', 'Hans Krankl', 'Hard Rock Cafe', 'Harry Kane', 'Hat-trick', 'Heaven', 'Heinz Strehl', 'Heleno de Freitas', 'Henk ten Cate', 'Henrik Larsson', 'Henrique Almeida', 'Henry Zambrano', 'Heriberto Herrera', 'Herminio Masantonio', 'Hernán Crespo', 'Hipólito Rincón', 'Honduras national football team', 'Horacio Rodríguez Larreta', 'Hristo Stoichkov', 'Hugo Campagnaro', 'Hugo Ekitike', 'Hugo Gatti', 'Hugo Ibarra', 'Hugo Sánchez', 'Humberto Maschio', 'Humberto Suazo', 'Hungary national football team', 'Héctor Scarone', 'Héctor Scotta', 'Héctor Yazalde', \"IFFHS World's Best International Goal Scorer\", \"IFFHS World's Best Playmaker\", \"IFFHS World's Best Top Division Goal Scorer\", \"IFFHS World's Best Top Goal Scorer\", 'Iago Aspas', 'Ian Rush', 'Iceland national football team', 'Igor Arenaza', 'Igor Belanov', 'Iker Casillas', 'Impact of the COVID-19 pandemic on association football', 'Inter Milan', 'International Federation of Football History & Statistics', 'Internet meme', 'Iran national football team', 'Isabelino Gradín', 'Isco', 'Isidro Lángara', 'Ismail Matar', 'Italy', 'Italy national football team', 'Ivan Rakitić', 'Ivory Coast national football team', 'Ivory Coast national under-23 football team', 'Iván Córdoba', 'Iván Kaviedes', 'Iván Zamorano', 'Iñaki Muñoz', 'Jaap Stam', 'Jair (footballer, born 1921)', 'Jamaica national football team', 'James Rodríguez', 'Jan Oblak', 'Jan Urban', 'Japan national football team', 'Jari Litmanen', 'Jasem Al-Huwaidi', 'Javier Ambrois', 'Javier Mascherano', 'Javier Pastore', 'Javier Portillo (Spanish footballer)', 'Javier Saviola', 'Javier Zanetti', 'Jean Beausejour', 'Jean-Marc Ferreri', 'Jean-Pierre Papin', 'Jeison Murillo', 'Jennifer Hermoso', 'Jens Lehmann', 'Jesús Alzugaray', 'Jimmy Floyd Hasselbaink', 'Joachim Löw', 'Joan Gamper Trophy', 'Joan Gamper trophy', 'Joan Laporta', 'Joaquín Botero', 'Joaquín Correa', 'Joe Frazier', 'Johan Cruyff', 'Johan Neeskens', 'John Aldridge', 'John Guidetti', 'John Terry', 'Jonas (footballer, born 1984)', 'Jonatan Maidana', 'Jonny Magallón', 'Jonás Gutiérrez', 'Jordi Alba', 'Jorge Burruchaga', 'Jorge Fucile', 'Jorge Peredo', 'Jorge Sampaoli', 'Jorge Valdano', 'Jorge da Silva', 'Jorginho (footballer, born December 1991)', 'Jose Mourinho', 'Joseba Etxeberria', 'Josef Masopust', 'Josep Maria Bartomeu', 'Josep Samitier', 'Joshua Kimmich', 'Josip Skoblar', 'José Alfredo Castillo', 'José Altafini', 'José Bonaparte', 'José Cardozo', 'José Cura', 'José Eulogio Gárate', 'José Leandro Andrade', 'José Luis Chilavert', 'José Luis Dolgetta', 'José Manuel Moreno', 'José María Bakero', 'José María Basanta', 'José María Medina (footballer)', 'José Mourinho', 'José Nasazzi', 'José Omar Pastoriza', 'José Perdomo', 'José Piendibene', 'José Pékerman', 'José Pérez (Uruguayan footballer)', 'José Sanfilippo', 'José Sosa', 'José Torres (footballer, born 1938)', 'José Zalazar', 'José Águas', 'José Ángel Ziganda', 'João Félix', 'João Maria Menezes', 'Juan (footballer, born 1979)', 'Juan Antonio Pizzi', 'Juan Arza', 'Juan Barbas', 'Juan Bernat', 'Juan Carlos Baglietto', 'Juan Carlos Ruiz García', 'Juan Foyth', 'Juan Francia', 'Juan Imhoff', 'Juan Manuel Martínez', 'Juan Marvezzi', 'Juan Musso', 'Juan Pablo Carrizo', 'Juan Pablo Sorín', 'Juan Román Riquelme', 'Juan Sebastián Verón', 'Juan Seminario', 'Juan-David Nasio', 'Juanito (footballer, born 1954)', 'Julio Cruz (Argentine footballer)', 'Julio Libonatti', 'Julio Merayo', 'Julián Álvarez (footballer)', 'Jupp Heynckes', 'Just Fontaine', 'Justo Tejada', 'Juventus F.C.', 'Jérôme Boateng', 'Júlio Baptista', 'Júlio César (football goalkeeper, born 1979)', 'Jürgen Klinsmann', 'Jürgen Piepenburg', 'Kaká', 'Karim Benzema', 'Karl Toko Ekambi', 'Karl-Heinz Rummenigge', 'Kees Kist', 'Kevin De Bruyne', 'Kevin Keegan', 'Kevin Phillips (footballer)', 'Keylor Navas', 'Kily González', 'Klaas-Jan Huntelaar', 'Kobe Bryant', 'Konami', 'Krestovsky Stadium', 'Kuwait national football team', 'Kylian Mbappé', \"L'Équipe\", 'LFP Awards', 'La Liga', 'La Liga Awards', 'La Liga records and statistics', 'La Masia', 'La Nación', 'La Razón (Madrid)', 'Lance Armstrong', 'Latvia national football team', 'Laureus World Sports Award for Sportsman of the Year', 'Lautaro Acosta', 'Lautaro Martínez', 'Leandro Cufré', 'Leandro Paredes', 'Lee Kang-in', 'Leicy Santos', 'Lena Goeßling', 'Leo Franco', 'Leonardo Bonucci', 'Leonardo Rodríguez', 'Leopoldo Luque', 'Lev Yashin', 'Levante UD', 'Lewis Hamilton', 'Leônidas', 'Liberia national football team', 'Libertad Lamarque', 'Lieke Martens', 'Ligue 1', 'Liliana Herrero', 'Lille OSC', 'Lionel Scaloni', 'Lisandro López (footballer, born 1989)', 'Lisandro Martínez', 'Lisandro de la Torre', 'Lisbon', 'Litto Nebbia', 'Liverpool F.C.', 'Los Angeles Lakers', 'Lothar Matthäus', 'Lou Macari', 'Luca Toni', 'Lucas Barrios', 'Lucas Biglia', 'Lucas Martínez Quarta', 'Lucas Pratto', 'Lucas Scaglia', 'Lucho González', 'Luciano Figueroa', 'Luciano Sánchez García', 'Lucie Martínková', 'Lucio Fontana', 'Lucy Bronze', 'Ludovic Giuly', 'Luis Aragonés', 'Luis Artime', 'Luis Cembranos', 'Luis Díaz (Colombian footballer)', 'Luis Enrique', 'Luis Fabiano', 'Luis García Postigo', 'Luis Hernández (footballer, born 1968)', 'Luis Islas', 'Luis Lacalle Pou', 'Luis Machín', 'Luis Suárez', 'Luis Suárez (Spanish footballer)', 'Luka Modrić', 'Luís Figo', 'Lyuboslav Penev', 'László Kubala', 'Maccabi Haifa F.C.', 'Maicon (footballer, born 1981)', 'Manager (association football)', 'Manchester City F.C.', 'Manchester United', 'Manchester United F.C.', 'Manolo (footballer, born 1965)', 'Manuel Badenes', 'Manuel Ferreira (footballer)', 'Manuel Neuer', 'Manuel Olivares', 'Manuel Seoane', 'Marc Janko', 'Marc-André ter Stegen', 'Marcel Witeczek', 'Marcelo (footballer, born 1988)', 'Marcelo Bielsa', 'Marcelo Delgado', 'Marcelo Díaz', 'Marcelo Salas', 'Marche', 'Marco Ruben', 'Marco Verratti', 'Marco van Basten', 'Marcos Acuña', 'Marcos Rojo', 'Mariano Andújar', 'Mariano Azcona', 'Mariano Martín', 'Marianín', 'Mario Balotelli', 'Mario Bolatti', 'Mario Götze', 'Mario Kempes', 'Mark Koussas', 'Marquinhos', 'Marta (footballer)', 'Martín Demichelis', 'Martín Herrera', 'Martín Palermo', 'Mats Hummels', 'Matthias Sammer', 'Matthijs de Ligt', 'Matías Kranevitter', 'Matías Suárez', 'Mauricio Isla', 'Mauricio Macri', 'Mauricio Pochettino', 'Mauro Icardi', 'Max Verstappen', 'Maxi Biancucchi', 'Maxi Rodríguez', 'Maximiliano Meza (footballer, born 1992)', 'Megan Rapinoe', 'Messi', 'Messi (2014 film)', 'Messi (2017 film)', 'Messi (cougar)', 'Messi and Maud', 'Messiah', 'Messi–Ronaldo rivalry', 'Mesut Özil', 'Mexico national football team', 'Michael Ballack', 'Michael Laudrup', 'Michael Owen', 'Michael Schumacher', 'Michel Platini', 'Mick Jones (footballer, born 1945)', 'Midfielder', 'Miguel Ángel Brindisi', 'Miguel Ángel Raimondo', 'Miguel Ángel Soler Barberà', 'Mika (footballer, born 1991)', 'Milinko Pantić', 'Miloš Milutinović', 'Milton Casco', 'Miroslav Đukić', 'Mohamed Salah', 'Morocco national football team', 'Muhammad Ali', 'Munir El Haddadi', \"Museu Nacional d'Art de Catalunya\", 'Málaga CF', 'Mário Jardel', 'Médecins Sans Frontières', 'Míchel (footballer, born 1963)', 'Míchel (footballer, born 1977)', \"N'Golo Kanté\", 'N/A', 'Nadine Keßler', 'Nahuel Guzmán', 'Nahuel Molina', 'Narciso Manuel Rodríguez de Armas', 'Neco', 'Nery Castillo', 'Netherlands national football team', 'New Maradona', \"Newell's Old Boys\", 'Neymar', 'Nicolás Burdisso', 'Nicolás Domínguez', 'Nicolás Falero', 'Nicolás Gaitán', 'Nicolás González (footballer, born 1998)', 'Nicolás Navarro (Argentine footballer)', 'Nicolás Olivera', 'Nicolás Otamendi', 'Nicolás Pareja', 'Nicolás Tagliafico', 'Nigeria national football team', 'Nigeria national under-23 football team', 'Nihat Kahveci', 'Nike, Inc.', 'Nikos Machlas', 'Norberto Doroteo Méndez', 'Nordi Mukiele', 'Northern Ireland national football team', 'Novak Djokovic', 'Nuno Mendes (footballer, born 2002)', 'Néstor Fabbri', 'Obdulio Varela', 'Obelisco de Buenos Aires', 'Offside (association football)', 'Oleg Blokhin', 'Oleg Salenko', 'Oliver Kahn', 'Olympiacos F.C.', 'Olympic medal', 'Olympique Lyonnais', 'Olympique de Marseille', 'Oman national football team', 'Omar Sívori', \"Onze d'Or\", 'Ooredoo', 'Oscar (footballer, born 1991)', 'Oscar Ruggeri', 'Oscar Ustari', 'Osvaldo Ardiles', 'Overtime (sports)', 'Own goal', 'PES 2009', 'PES 2010', 'PES 2011', 'PES 2020', 'PSV Eindhoven', 'Pablo Aimar', 'Pablo Couñago', 'Pablo Infante', 'Pablo Sarabia', 'Pablo Zabaleta', 'Paco Alcácer', 'Paco Bienzobas', 'Pahiño', 'Panama Papers', 'Panama national football team', 'Panathinaikos F.C.', 'Panenka (penalty kick)', 'Paolo Guerrero', 'Paolo Maldini', 'Paolo Rossi', 'Papu Gómez', 'Paraguay national football team', 'Parc des Princes', 'Paris', 'Paris Saint-Germain', 'Paris Saint-Germain F.C.', 'Patrice Evra', 'Patricio Galaz', 'Patrick Vieira', 'Paul Breitner', 'Paul Pogba', 'Paul Van Himst', 'Paulino Alcántara', 'Paulo Dybala', 'Paulo Silas', 'Pavel Nedvěd', 'Pedri', 'Pedro (footballer, born 1987)', 'Pedro Petrone', 'Pedro Rocha (Uruguayan footballer)', 'Pelé', 'Penalty kick (association football)', 'Pep Guardiola', 'Pepsi', 'Peru national football team', 'Pervis Estupiñán', 'Petar Novák', 'Petar Zhekov', 'Peter Pacult', 'Peter Schmeichel', 'Petr Čech', 'Philipp Lahm', 'Pichichi Trophy', 'Pity Martínez', 'Player of the match', 'Playmaker', 'Poland national football team', 'Portugal national football team', 'Predrag Mijatović', 'Predrag Rajković', 'Premi Barça Jugadors', 'President of Argentina', 'Presnel Kimpembe', 'Pro Evolution Soccer', 'Pruden', 'Public art', 'Quim Torra', 'Quini', 'Quito', 'RC Celta de Vigo', 'RC Lens', 'RCD Espanyol', 'RCD Mallorca', 'Rabah Madjer', 'Radamel Falcao', 'Rafael Nadal', 'Rafael van der Vaart', 'Raheem Sterling', 'Ramiro Blacut', 'Ramiro Funes Mori', 'Ramón Díaz', 'Ramón Medina Bello', 'Raphaël Varane', 'Raymond Kopa', 'Rayo Vallecano', 'Raí', 'Raúl (footballer)', 'Raúl Toro Julio', 'Real Betis', 'Real Madrid CF', 'Real Sociedad', 'Real Valladolid', 'Renata Fronzi', 'Renato Sanches', 'Renzo Saravia', 'Ricardo Alós', 'Ricardo Bochini', 'Ricardo Carvalho', 'Ricardo Gomes', 'Riccardo Orsolini', 'Ricky Álvarez', 'Rico (footballer)', 'Rivaldo', 'Rob Rensenbrink', 'Robert Lewandowski', 'Robert Prosinečki', 'Roberto Abbondanzieri', 'Roberto Acuña', 'Roberto Ayala', 'Roberto Baggio', 'Roberto Carlos', 'Roberto Dinamite', 'Roberto Figueroa', 'Roberto Fontanarrosa', 'Roberto Pereyra', 'Robinho', 'Rodion Cămătaru', 'Rodolfo Micheli', 'Rodrigo De Paul', 'Rodrigo Palacio', 'Roger Federer', 'Rogério Ceni', 'Rome', 'Romelu Lukaku', 'Rommel Fernández', 'Romulus Gabor', 'Romário', 'Ronald Koeman', 'Ronaldinho', 'Ronaldo (Brazilian footballer)', 'Rosario Central', 'Rosario, Santa Fe', 'Roy Makaay', 'Royal Spanish Football Federation', 'Rubén Paz', 'Rubén Sosa', 'Rui Águas (footballer)', 'Ruud Gullit', 'Ruud van Nistelrooy', 'Ryan Giggs', 'Rúben Dias', 'S.L. Benfica', 'S.S.C. Napoli', 'SD Eibar', 'SD Huesca', 'SK Slavia Prague', 'Sadio Mané', 'Saeed Al-Owairan', 'Salva Ballesta', 'Salvatore Schillaci', \"Samuel Eto'o\", 'Sandro Mazzola', 'Santiago Bernabéu Stadium', 'Santos FC', 'Saudi Arabia national football team', 'Sead Kolašinac', 'Sebastian Vettel', 'Sebastián Losada', 'Segunda División B', 'Segundo Luna', 'Selfie', 'Senegal national football team', 'Senna–Prost rivalry', 'Sepp Blatter', 'Serbia and Montenegro national football team', 'Sergei Yuran', 'Sergi Roberto', 'Sergio Agüero', 'Sergio Batista', 'Sergio Busquets', 'Sergio Goycochea', 'Sergio León', 'Sergio Livingstone', 'Sergio Ramos', 'Sergio Rico', 'Sergio Romero', 'Serhiy Scherbakov', 'Sevilla FC', 'Seydou Keita', 'Shell company', 'Shinji Okazaki', 'Sign of the cross', 'Silvester Takač', 'Sinovac Biotech', 'Sistine Chapel of Football', 'Sitges', 'Sotiris Kaiafas', 'South American Youth Football Championship', 'South Korea national football team', 'Soviet Union national football team', 'Spain national football team', 'Spanish nationality law', 'Sporting de Gijón', 'SportsPro', 'Sportswashing', 'Squad number (association football)', 'Stade de Reims', 'Stanley Matthews', 'Stefan Effenberg', 'Stefan de Vrij', 'Steven Gerrard', 'Supercopa de España', 'Supporters of FC Barcelona', 'Suspended sentence', 'Switzerland national football team', 'Søren Lerby', 'Taipei', 'Take the Ball Pass the Ball', 'Tanju Çolak', 'Tata Motors', 'Tax evasion', 'Tax haven', 'Telmo Zarra', 'Teodoro Fernández', 'Tercera División', 'Terry Gibson', 'Terry McDermott', 'Teófilo Cubillas', 'The Best FIFA Football Awards 2016', 'The Best FIFA Football Awards 2017', 'The Best FIFA Football Awards 2018', 'The Best FIFA Football Awards 2019', 'The Best FIFA Football Awards 2020', 'The Best FIFA Football Awards 2021', \"The Best FIFA Men's Player\", 'The Daily Telegraph', 'The Guardian', 'The hand of God', 'Thiago Alcântara', 'Thiago Almada', 'Thiago Silva', 'Thierry Henry', 'Thomas Müller', 'Tiger Woods', 'Time (magazine)', 'Time 100', 'Tito Vilanova', 'Toni Kroos', 'Toni Polster', 'Torbjörn Nilsson', 'Tourism in Saudi Arabia', 'Treble (association football)', 'Trent Alexander-Arnold', 'Trofeo Aldo Rovira', 'Trofeo Alfredo Di Stéfano', 'Trofeo EFE', 'Trophée des Champions', 'Troyes AC', 'Truck art in South Asia', 'Trésor Mputu', 'Turkey national football team', 'Turkish Airlines', 'TyC Sports', 'UD Almería', 'UD Las Palmas', 'UEFA', 'UEFA Best Player in Europe Award', 'UEFA Champions League', 'UEFA Club Football Awards', 'UEFA Club Footballer of the Year', \"UEFA Men's Player of the Year Award\", 'UEFA Super Cup', 'UEFA Team of the Year', 'UNFP Player of the Month', 'UNICEF', 'Ubaldo Fillol', 'Uli Stielike', \"United States men's national soccer team\", \"United States national men's soccer team\", 'Uruguay national football team', 'Usain Bolt', 'Valencia CF', 'Venezuela national football team', 'Venice Film Festival', 'VfB Stuttgart', 'Vicente Aguirre', 'Vicente Calderón Stadium', 'Vicente de la Mata', 'Victorio Unamuno', 'Video assistant referee', 'Viktor Kovalenko (footballer)', 'Viktor Sokol (footballer, born 1954)', 'Villarreal CF', 'Vilmos Vanczák', 'Virgil van Dijk', 'Vitinha (footballer, born 2000)', 'Vladica Kovačević', 'Vladimir Gudelj', 'Volodymyr Bezsonov', 'Víctor Aristizábal', 'Víctor Cuesta', 'Víctor Curto', 'Vítor Baía', 'Waldo (footballer)', 'Walter Samuel', 'Wayne Rooney', 'Wembley Stadium', 'Wesley Sneijder', 'Willy Caballero', 'Wim Kieft', 'Wissam Ben Yedder', 'World Press Photo', 'Wynton Rufer', 'Xavi', 'Yashin Trophy', 'Yokohama', 'Yordi', 'Yoshimar Yotún', 'Zinedine Zidane', 'Zizinho', 'Zlatan Ibrahimović', 'Zviad Endeladze', 'Álex de la Iglesia', 'Álvaro Negredo', 'Ángel Bargas', 'Ángel Correa', 'Ángel Di María', 'Ángel Rodríguez (footballer, born 1987)', 'Ángel Romano', 'Édouard Mendy', 'Éver Banega', 'Óscar Míguez']\n"
     ]
    }
   ],
   "source": [
    "for i, (key, value) in enumerate((graph.items())):\n",
    "    print(value)"
   ]
  },
  {
   "cell_type": "code",
   "execution_count": 54,
   "metadata": {},
   "outputs": [
    {
     "data": {
      "text/plain": [
       "2"
      ]
     },
     "execution_count": 54,
     "metadata": {},
     "output_type": "execute_result"
    }
   ],
   "source": [
    "while len(graph) <= 6:\n",
    "    "
   ]
  },
  {
   "cell_type": "code",
   "execution_count": null,
   "metadata": {},
   "outputs": [],
   "source": []
  },
  {
   "cell_type": "code",
   "execution_count": null,
   "metadata": {},
   "outputs": [],
   "source": []
  },
  {
   "cell_type": "code",
   "execution_count": null,
   "metadata": {},
   "outputs": [],
   "source": []
  },
  {
   "cell_type": "code",
   "execution_count": null,
   "metadata": {},
   "outputs": [],
   "source": []
  },
  {
   "cell_type": "code",
   "execution_count": null,
   "metadata": {},
   "outputs": [],
   "source": []
  },
  {
   "cell_type": "code",
   "execution_count": null,
   "metadata": {},
   "outputs": [],
   "source": []
  },
  {
   "cell_type": "code",
   "execution_count": null,
   "metadata": {},
   "outputs": [],
   "source": []
  },
  {
   "cell_type": "code",
   "execution_count": null,
   "metadata": {},
   "outputs": [],
   "source": []
  },
  {
   "cell_type": "code",
   "execution_count": null,
   "metadata": {},
   "outputs": [],
   "source": []
  },
  {
   "cell_type": "code",
   "execution_count": null,
   "metadata": {},
   "outputs": [],
   "source": [
    "''' to transform map1, map2 into gephi graphable visualizations:\n",
    "map1: {'apple', 'pear'\n",
    "map2: {'fruit', 'red', 'america', 'green', 'oval'}\n",
    "\n",
    "nodes sheet: \n",
    "id  name\n",
    "1   apple\n",
    "2   pear\n",
    "3   fruit\n",
    "4   red\n",
    "5   america\n",
    "6   green\n",
    "7   oval\n",
    "\n",
    "edges sheet, with node values: \n",
    "source   target   type   weight\n",
    "apple    red\n",
    "apple    fruit\n",
    "apple    america\n",
    "pear     green\n",
    "pear     oval\n",
    "pear     america\n",
    "\n",
    "edges sheet, proper formatting:\n",
    "source   target   type   weight\n",
    "1        4\n",
    "1        3\n",
    "1        5\n",
    "2        6\n",
    "2        7\n",
    "2        5\n",
    "\n",
    "\n",
    "\n",
    "'''"
   ]
  },
  {
   "cell_type": "code",
   "execution_count": 71,
   "metadata": {},
   "outputs": [],
   "source": [
    "map1 = {}\n",
    "map2 = {}"
   ]
  },
  {
   "cell_type": "code",
   "execution_count": 72,
   "metadata": {},
   "outputs": [],
   "source": [
    "map1[\"a_0\"] = page_a.title\n",
    "map1[\"b_0\"] = page_b.title"
   ]
  },
  {
   "cell_type": "code",
   "execution_count": 73,
   "metadata": {},
   "outputs": [],
   "source": [
    "for count, value in enumerate(list_node_a): \n",
    "    dict_key = \"a_0_\" + str(count + 1)\n",
    "    map2[str(dict_key)] = value\n",
    "\n",
    "for count, value in enumerate(list_node_b): \n",
    "    dict_key = \"b_0_\" + str(count + 1)\n",
    "    map2[str(dict_key)] = value"
   ]
  },
  {
   "cell_type": "code",
   "execution_count": 33,
   "metadata": {
    "scrolled": true
   },
   "outputs": [],
   "source": [
    "for i, (key, value) in enumerate(map2.items()):\n",
    "    #print(i, key, value)\n",
    "    \n",
    "    # first store the map2 key in map1 AND map2 value in map1 (key:value pair)\n",
    "    map1[str(key)] = value"
   ]
  },
  {
   "cell_type": "code",
   "execution_count": 43,
   "metadata": {},
   "outputs": [],
   "source": [
    "page_a_from = [page_a.title] * len(list_node_a)\n",
    "page_a_to = list_node_a\n",
    "    \n",
    "page_b_from = [page_b.title] * len(list_node_b)\n",
    "page_b_to = list_node_b"
   ]
  },
  {
   "cell_type": "code",
   "execution_count": 44,
   "metadata": {},
   "outputs": [],
   "source": [
    "pages_from = page_a_from + page_b_from\n",
    "\n",
    "pages_to = page_a_to + page_b_to"
   ]
  },
  {
   "cell_type": "code",
   "execution_count": 45,
   "metadata": {},
   "outputs": [],
   "source": [
    "d = {'from': pages_from, 'to': pages_to}\n",
    "\n",
    "df = pd.DataFrame(d)\n",
    "#df"
   ]
  },
  {
   "cell_type": "code",
   "execution_count": 31,
   "metadata": {},
   "outputs": [],
   "source": [
    "#type(df)\n",
    "\n",
    "df.to_excel(\"output.xlsx\", index = False)"
   ]
  }
 ],
 "metadata": {
  "kernelspec": {
   "display_name": "Python 3",
   "language": "python",
   "name": "python3"
  },
  "language_info": {
   "codemirror_mode": {
    "name": "ipython",
    "version": 3
   },
   "file_extension": ".py",
   "mimetype": "text/x-python",
   "name": "python",
   "nbconvert_exporter": "python",
   "pygments_lexer": "ipython3",
   "version": "3.8.5"
  }
 },
 "nbformat": 4,
 "nbformat_minor": 4
}
