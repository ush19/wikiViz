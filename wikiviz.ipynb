{
 "cells": [
  {
   "cell_type": "code",
   "execution_count": 1,
   "metadata": {
    "scrolled": true
   },
   "outputs": [
    {
     "name": "stdout",
     "output_type": "stream",
     "text": [
      "\n",
      "Once deleted, variables cannot be recovered. Proceed (y/[n])? y\n"
     ]
    }
   ],
   "source": [
    "%reset"
   ]
  },
  {
   "cell_type": "code",
   "execution_count": 2,
   "metadata": {},
   "outputs": [],
   "source": [
    "#import necessary modules for package\n",
    "\n",
    "import wikipediaapi\n",
    "import pandas as pd\n",
    "import networkx as nx\n",
    "import copy\n",
    "from datetime import date\n",
    "from itertools import zip_longest\n",
    "from datetime import datetime"
   ]
  },
  {
   "cell_type": "code",
   "execution_count": 3,
   "metadata": {},
   "outputs": [
    {
     "name": "stdout",
     "output_type": "stream",
     "text": [
      "enter first wikipedia page name: apple\n",
      "enter second wikipedia page name: pokemon\n"
     ]
    }
   ],
   "source": [
    "#taking the more straightforward route, user supplies program with 2 wikipedia links themselves\n",
    "\n",
    "search_node_a = input(\"enter first wikipedia page name: \")\n",
    "search_node_b = input(\"enter second wikipedia page name: \")"
   ]
  },
  {
   "cell_type": "code",
   "execution_count": 4,
   "metadata": {},
   "outputs": [],
   "source": [
    "#get Wikipedia page for the search nodes a, b\n",
    "\n",
    "wiki_wiki = wikipediaapi.Wikipedia('en')\n",
    "\n",
    "page_a = wiki_wiki.page(search_node_a)\n",
    "page_b = wiki_wiki.page(search_node_b)"
   ]
  },
  {
   "cell_type": "code",
   "execution_count": 5,
   "metadata": {},
   "outputs": [],
   "source": [
    "#f'ns used to get links from Wikipedia pages and clean page links list to remove Wikipedia attributes \n",
    "\n",
    "def return_links(page, list_n):\n",
    "    list_n.clear()\n",
    "    links = page.links\n",
    "    for title in sorted(links.keys()):\n",
    "        list_n.append(title)\n",
    "            \n",
    "def clean_links(list_node):\n",
    "    for item in list_node.copy():\n",
    "        if ((item in ('Wayback Machine', 'Specials (Unicode block)')) or (item.endswith(('(disambiguation)', '(identifier)'))) or (item.startswith(('List of ', 'Category:', 'File:', 'Help:', 'Talk:', 'Template:', 'Wikipedia:', 'Template talk:', 'Portal:', 'Wiki')))):\n",
    "            list_node.remove(item)"
   ]
  },
  {
   "cell_type": "code",
   "execution_count": 6,
   "metadata": {
    "scrolled": true
   },
   "outputs": [],
   "source": [
    "list_node_a = []\n",
    "list_node_b = []\n",
    "\n",
    "return_links(page_a, list_node_a)\n",
    "return_links(page_b, list_node_b)\n",
    "\n",
    "clean_links(list_node_a)\n",
    "clean_links(list_node_b)"
   ]
  },
  {
   "cell_type": "code",
   "execution_count": 7,
   "metadata": {},
   "outputs": [],
   "source": [
    "#add page title to graph dict as key and nodes as values\n",
    "#form the network from the graph dict \n",
    "\n",
    "graph = {}\n",
    "\n",
    "graph[(page_a.title)] = list_node_a\n",
    "graph[(page_b.title)] = list_node_b\n",
    "\n",
    "G = nx.to_networkx_graph(graph)"
   ]
  },
  {
   "cell_type": "code",
   "execution_count": 8,
   "metadata": {},
   "outputs": [],
   "source": [
    "now = datetime.now()\n",
    "\n",
    "page_links = []\n",
    "\n",
    "error = \"\"\n",
    "shortest_path_list = \"\"\n",
    "\n",
    "combined_a_b = list_node_a + list_node_b"
   ]
  },
  {
   "cell_type": "code",
   "execution_count": 9,
   "metadata": {
    "scrolled": true
   },
   "outputs": [
    {
     "name": "stdout",
     "output_type": "stream",
     "text": [
      "There are 2 degrees of separation between Apple and Pokémon\n",
      "\n",
      "['Apple', 'United States', 'Pokémon']\n"
     ]
    }
   ],
   "source": [
    "titles = combined_a_b\n",
    "\n",
    "for t in titles:\n",
    "    page = wiki_wiki.page(t)\n",
    "    return_links(page, page_links)\n",
    "    clean_links(page_links)\n",
    "    \n",
    "    graph[(page.title)] = copy.deepcopy(page_links)\n",
    "    \n",
    "    for p in page_links:\n",
    "        if p not in titles:\n",
    "            titles.append(p)\n",
    "        else:\n",
    "            break;\n",
    "        break;\n",
    "            \n",
    "    page_links.clear();\n",
    "    del page; \n",
    "    \n",
    "    try:\n",
    "        G = nx.to_networkx_graph(graph)\n",
    "        nx.shortest_path(G, page_a.title, page_b.title)\n",
    "    except nx.NetworkXNoPath:\n",
    "        if t == titles[-1]: \n",
    "            error = \"No path found between %s and %s\" % (page_a.title, page_b.title)\n",
    "            break;\n",
    "        else:\n",
    "            #print(t)\n",
    "            continue;\n",
    "    else:\n",
    "        shortest_path_list = nx.shortest_path(G, page_a.title, page_b.title)\n",
    "        break;\n",
    "\n",
    "    if error != \"\":\n",
    "        break;\n",
    "\n",
    "if error == \"\":\n",
    "    output = (\"There are \" + str(len(shortest_path_list) - 1) + \" degrees of separation between \" + page_a.title + \" and \" + page_b.title + \"\\n\\n\" + str(shortest_path_list))\n",
    "else:\n",
    "    output = error\n",
    "    \n",
    "print(output)\n",
    "    \n",
    "log = open(\"run_logs.txt\", \"a\")\n",
    "log.write(output + \"\\n\")\n",
    "log.write(\"Run: \" + str(now) + \"\\n\\n\")\n",
    "log.close()"
   ]
  }
 ],
 "metadata": {
  "kernelspec": {
   "display_name": "Python 3",
   "language": "python",
   "name": "python3"
  },
  "language_info": {
   "codemirror_mode": {
    "name": "ipython",
    "version": 3
   },
   "file_extension": ".py",
   "mimetype": "text/x-python",
   "name": "python",
   "nbconvert_exporter": "python",
   "pygments_lexer": "ipython3",
   "version": "3.8.5"
  }
 },
 "nbformat": 4,
 "nbformat_minor": 4
}
