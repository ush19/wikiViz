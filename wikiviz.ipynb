{
 "cells": [
  {
   "cell_type": "code",
   "execution_count": null,
   "metadata": {},
   "outputs": [],
   "source": [
    "''' \n",
    "\n",
    "BIG REFERENCE:\n",
    "https://www.geeksforgeeks.org/generate-graph-using-dictionary-python/\n",
    "\n",
    ">>>tracker of sorts<<<\n",
    "December 23 2021: latest update to this project\n",
    "September 22 2022: first update to project in 2022 after hiatus of 9 months, switched from dynamically searching for text to user entering wikipedia link\n",
    "November 24 2022: continued updates; made rough map, switched to Gephi (will use networkx later)\n",
    "November 25 2022: discovered that the computational part behind the visualizations I'm building are called graph theory... kinda forgot about that\n",
    "'''\n",
    "\n",
    "'''\n",
    "thoughts as I go along\n",
    "\n",
    "> use some network graph package to visualize connection(s)\n",
    "> main two pages: page_a, page_b\n",
    "> lol no\n",
    "    intermediary links between a and b: \n",
    "   a_1_1: list of links 1 page, 1st link from page a\n",
    "   a_10_20: list of links 10 pages, 20th link from page a\n",
    "   b_300_35: list of links 300 pages, 35th link from page b\n",
    "    --> recursively checking if any of the links match \n",
    "    don't make dynammically named variables, use a dict: \n",
    "https://stackoverflow.com/questions/14819849/create-lists-of-unique-names-in-a-for-loop-in-python\n",
    "> two main requirements for networkx: nodes and edges\n",
    "    dictionary of lists, example:\n",
    "        {[source, destination], [source, destination], [source, destination], [source, destination]}\n",
    "    recursively loop through the origin node list and find all the pages for each origin, insert into list insert into dictionary - using origin page as source\n",
    "    take the origins nodes pages as source \n",
    "    \n",
    "    before inserting: \n",
    "    check for duplicates in origin and destination node ends and in intermediaries\n",
    "    check for shared edges\n",
    "    (or insert first and then delete?)\n",
    "    \n",
    "    nodes: \n",
    "        develop two lists (origin, destination: \n",
    "        combine both lists and remove duplictes\n",
    "    \n",
    "    edges: \n",
    "        provided from above \n",
    "        \n",
    "    research what type of data structure should be used for the source, destination edge file\n",
    "    \n",
    "\n",
    "maybe?\n",
    "> by building a web app, I'd be constantly making requests to Wikipedia and despite their generous no limit, just be considerate policy, i'd rather not crash their systems\n",
    "   better undertaking: get ALL wikipedia data, store it in one file, build app from there \n",
    "\n",
    "'''"
   ]
  },
  {
   "cell_type": "code",
   "execution_count": 1,
   "metadata": {},
   "outputs": [
    {
     "name": "stdout",
     "output_type": "stream",
     "text": [
      "Once deleted, variables cannot be recovered. Proceed (y/[n])? y\n"
     ]
    }
   ],
   "source": [
    "%reset"
   ]
  },
  {
   "cell_type": "code",
   "execution_count": 2,
   "metadata": {},
   "outputs": [],
   "source": [
    "import wikipediaapi\n",
    "import pandas as pd\n",
    "import networkx as nx"
   ]
  },
  {
   "cell_type": "code",
   "execution_count": 3,
   "metadata": {},
   "outputs": [
    {
     "name": "stdout",
     "output_type": "stream",
     "text": [
      "enter first wikipedia page name: apple\n",
      "enter second wikipedia page name: pokemon\n"
     ]
    }
   ],
   "source": [
    "#   taking the more straightforward route, user supplies program with 2 wikipedia links themselves\n",
    "search_node_a = input(\"enter first wikipedia page name: \")\n",
    "search_node_b = input(\"enter second wikipedia page name: \")"
   ]
  },
  {
   "cell_type": "code",
   "execution_count": 4,
   "metadata": {},
   "outputs": [],
   "source": [
    "wiki_wiki = wikipediaapi.Wikipedia('en')\n",
    "\n",
    "page_a = wiki_wiki.page(search_node_a)\n",
    "page_b = wiki_wiki.page(search_node_b)"
   ]
  },
  {
   "cell_type": "code",
   "execution_count": 5,
   "metadata": {},
   "outputs": [],
   "source": [
    "def return_links(page, list_n):\n",
    "        links = page.links\n",
    "        for title in sorted(links.keys()):\n",
    "            list_n.append(title)"
   ]
  },
  {
   "cell_type": "code",
   "execution_count": 17,
   "metadata": {
    "scrolled": true
   },
   "outputs": [],
   "source": [
    "list_node_a = []\n",
    "list_node_b = []\n",
    "\n",
    "return_links(page_a, list_node_a)\n",
    "return_links(page_b, list_node_b)"
   ]
  },
  {
   "cell_type": "code",
   "execution_count": 18,
   "metadata": {},
   "outputs": [],
   "source": [
    "for item in list_node_a.copy():\n",
    "    if ((item in ('Wayback Machine', 'Specials (Unicode block)')) or (item.endswith(('(disambiguation)', '(identifier)'))) or (item.startswith(('List of ', 'Category:', 'File:', 'Help:', 'Talk:', 'Template:', 'Wikipedia:', 'Template talk:', 'Portal:', 'Wiki')))):\n",
    "        list_node_a.remove(item)"
   ]
  },
  {
   "cell_type": "code",
   "execution_count": 19,
   "metadata": {},
   "outputs": [],
   "source": [
    "for item in list_node_b.copy():\n",
    "    if ((item in ('Wayback Machine', 'Specials (Unicode block)')) or (item.endswith(('(disambiguation)', '(identifier)'))) or (item.startswith(('List of ', 'Category:', 'File:', 'Help:', 'Talk:', 'Template:', 'Wikipedia:', 'Template talk', 'Portal:', 'Wiki')))):\n",
    "        list_node_b.remove(item)"
   ]
  },
  {
   "cell_type": "code",
   "execution_count": 20,
   "metadata": {},
   "outputs": [],
   "source": [
    "graph = {}\n",
    "\n",
    "graph[(page_a.title)] = list_node_a\n",
    "graph[(page_b.title)] = list_node_b\n",
    "\n",
    "G = nx.to_networkx_graph(graph)"
   ]
  },
  {
   "cell_type": "code",
   "execution_count": 21,
   "metadata": {},
   "outputs": [
    {
     "name": "stdout",
     "output_type": "stream",
     "text": [
      "['Apple', 'United States', 'Pokémon']\n"
     ]
    }
   ],
   "source": [
    "#                  do this function everytime a new wikipage's links are added to graph variable\n",
    "#nx.shortest_path(G, 'Apple', 'Pokémon')\n",
    "\n",
    "try:\n",
    "    print(nx.shortest_path(G, page_a.title, page_b.title))\n",
    "except nx.NetworkXNoPath:\n",
    "    print(\"No path found between %s and %s.\" % (page_a.title, page_b.title))"
   ]
  },
  {
   "cell_type": "code",
   "execution_count": 22,
   "metadata": {},
   "outputs": [
    {
     "name": "stdout",
     "output_type": "stream",
     "text": [
      "['1-methylcyclopropene', 'Adam', 'Adam and Eve', \"Adam's apple\", 'Adams Pearmain', 'Adverse reaction', 'Agriculture', 'Aia Ilu', 'Airlie Red Flesh', 'Akane (apple)', 'Albrecht Dürer', 'Alexander the Great', 'Alkmene (apple)', 'Allington Pippin', 'Ambrosia (apple)', 'Amygdalin', 'An apple a day keeps the doctor away', 'Anaphylaxis', 'Anna (apple)', 'Annurca', 'Antonovka', 'Apfelwein', 'Aphids', 'Aphrodite', 'Apple (symbolism)', 'Apple Inc.', 'Apple butter', 'Apple cake', 'Apple cheese', 'Apple chip', 'Apple cider', 'Apple cider vinegar', 'Apple crisp', 'Apple juice', 'Apple maggot', 'Apple of Discord', 'Apple picking', 'Apple pie', 'Apple sauce', 'Apple scab', 'Apple seed oil', 'Apple strudel', 'Apple tree', 'Applecrab', 'Applejack (beverage)', 'Applejack (drink)', 'Arctic Apples', 'Ariane (apple)', 'Aristotle', 'Arkansas Black', \"Ashmead's Kernel\", 'Asia Minor', 'Atalanta', 'Athena', 'Aurora Golden Gala', 'Australian Plant Name Index', 'Autumn', 'Autumn Bough', 'Autumn Glory', 'Ayrshire', 'Bacterium', 'Baked', 'Baldwin (apple)', 'Banana', 'Beacon (apple)', 'Beauty of Bath', 'Belle de Boskoop', 'Bellflower apple', 'Ben Davis (apple)', 'Beta-Carotene', 'Binomial nomenclature', 'Birch', 'Birgit Bonnier', 'Bismarck (apple)', 'Black Spot (disease)', 'Blaise Daniel Staples', 'Blenheim Orange', 'Blossoms', 'Book of Genesis', 'Boston', 'Botryotinia', 'Braeburn', 'Bramley apple', 'Brina', 'British Columbia', 'Brown Snout', 'Bud sport', 'Bumblebee', 'Caesarean section', 'Calcium in biology', 'Calorie', 'Calvados', 'Calvados (spirit)', \"Calville Blanc d'hiver\", 'Cameo (apple)', 'Campanino', 'Canadian Food Inspection Agency', 'Candy apple', 'Cap of Liberty (apple)', 'Caramel', 'Caramel apple', 'Caramel apples', 'Carbohydrate', 'Carbon dioxide', 'Carl Larsson', 'Carl Ruck', 'Catalogue of Life', 'Catalysis', 'Central Asia', 'Champion (apple)', 'Chelmsford Wonder', 'Chiloé Archipelago', 'China', 'Chisel Jersey', 'Christianity in Europe', 'Cider', 'Cider apple', 'Ciderkin', 'Civni apple', 'Claygate Pearmain', 'Clivia (apple)', 'Coccagee', 'Codling moth', 'Controlled atmosphere', 'Cooking apple', 'Cornish Aromatic', 'Cornish Gilliflower', 'Cortland (apple)', 'Cosmetics', 'Cosmic Crisp', 'Costard (apple)', 'Court Pendu Plat', \"Cox's Orange Pippin\", 'Crab apples', 'Creston (apple)', 'Crimson Bramley', 'Crimson Gold (apple)', 'Crimson King (apple)', 'Cripps Pink', 'Cripps Red', 'Crop yield', 'Crumble', 'Cultivar', 'Cutting (plant)', 'Cyanide', 'Cyanogenic glycoside', 'Cyme (botany)', 'DNA sequencing', 'Dabinett', 'Daily Value', 'Deciduous', 'Delbard Jubilée', 'Delbarestivale', 'Delrouval', 'Devonshire Quarrenden', 'Dietary Reference Intake', 'Dietary fiber', 'Discovery (apple)', 'Distillation', 'Dorsett Golden', 'Dougherty (apple)', 'Duchess of Oldenburg (apple)', 'Dufflin (apple)', \"Dumelow's Seedling\", 'EPPO Code', 'East Malling Research Station', 'Eastern Washington', 'Ecocrop', 'Egremont Russet', 'Ellis Bitter', \"Ellison's Orange\", 'Elstar', 'Empire (apple)', 'Encyclopedia of Life', 'Enterprise (apple)', 'Envy (apple)', 'Enzyme', 'Epicuticular wax', 'Eris (mythology)', 'Esopus Spitzenburg', 'Eternal youth', 'Ethylene', 'Eudicots', 'European Nature Information System', 'European colonization of the Americas', 'Eva (apple)', 'Eve', 'EverCrisp', 'Expeller pressing', 'FAOSTAT', 'Fat', 'Fermentation (food)', 'Fertility', 'Fiesta (apple)', 'Filippa (apple)', 'Fireblight', 'Flamenco (apple)', 'Flora of China', 'Florina (apple)', 'Flower of Kent', 'Flowering plant', 'Folate', 'Folklore', 'Food and Drug Administration', 'Food browning', 'Food energy', 'Forbidden fruit', 'Foxwhelp', 'French language', 'Freyr', 'Frigg', 'Fruit', 'Fruit picking', 'Fruit tree', 'Fruit tree pollination', 'Fruit tree propagation', 'Fruit tree pruning', 'Fuji (apple)', 'Fungus', 'Gala (apple)', 'Garden of Eden', \"Gascoyne's Scarlet\", 'Geheimrat Dr. Oldenburg', 'Gene expression', 'Genetically modified food', 'Genome', 'Genus', 'Germanic paganism', 'Germanic peoples', 'Germplasm Resources Information Network', 'Gerðr', 'Ginger Gold', 'Global Biodiversity Information Facility', 'Gloster (apple)', 'Gods', 'Golden Delicious', 'Golden Noble', 'Golden Orange (apple)', 'Golden Russet', 'Golden Spire', 'Golden apple', 'Goldspur', 'Grafting', 'Granny Smith', 'Gravenstein', 'Greek hero', 'Greek mythology', 'Grenadier (apple)', 'Grimes Golden', 'Gymnosporangium', 'Gymnosporangium juniperi-virginianae', 'H. R. Ellis Davidson', 'Hangdown (apple)', 'Haralson (apple)', 'Harrison Cider Apple', 'Harvard University Herbaria', 'Hazardous Substances Data Bank', 'Hel (location)', 'Helen of Troy', 'Hera', 'Heracles', 'Hesperides', 'Himmel und Erde', 'Hippomenes', 'Honey bee', 'Honeycrisp', 'Honeygold', 'Human iron metabolism', 'Hydrolyzed', 'Hypoallergenic', 'INaturalist', 'Ice cider', 'Idared', 'India', 'Indian subcontinent', 'Inflorescence', 'Ingrid Marie', 'Integrated Taxonomic Information System', 'International Plant Names Index', 'International unit', 'Introgression', 'Italy', 'Iðunn', 'James Grieve (apple)', 'Jazz (apple)', 'Jersey Black', 'Jewish apple cake', 'John Lloyd (writer)', 'John Mitchinson (researcher)', 'Johnny Appleseed', 'Jonadel', 'Jonagold', 'Jonathan (apple)', 'Jubilee apple', 'Julieta (apple)', 'Jupiter (apple)', 'Kallisti', 'Kanzi (apple)', 'Kaolin', 'Karmijn de Sonnaville', 'Kazakhstan', 'King Byerd', 'King of the Pippins', 'Kingston Black', 'Knobby Russet', 'Kyrgyzstan', 'L. K. Relander', 'Labours of Hercules', 'Lady Alice (apple)', 'Larynx', 'Latin language', \"Laxton's Superb\", 'Leaf arrangement', 'Liberty (apple)', 'Liveland Raspberry apple', 'Lodi (apple)', 'London Borough of Merton', 'Lord Lambourne (apple)', \"Lucombe's Seedling\", 'Lutein', 'Lyceum', 'M. asiatica', 'M. prunifolia', 'MN55 (apple)', 'Macoun apple', 'Magnesium in biology', 'Major (cider apple)', 'Malling series', 'Malus', \"Malus 'Evereste'\", 'Malus angustifolia', 'Malus asiatica', 'Malus baccata', 'Malus bracteata', 'Malus brevipes', 'Malus coronaria', 'Malus doumeri', 'Malus florentina', 'Malus floribunda', 'Malus fusca', 'Malus glabrata', 'Malus glaucescens', 'Malus halliana', 'Malus honanensis', 'Malus hupehensis', 'Malus ioensis', 'Malus kansuensis', 'Malus lancifolia', 'Malus mandshurica', 'Malus niedzwetskyana', 'Malus niedzwetzkyana', 'Malus orientalis', 'Malus prattii', 'Malus prunifolia', 'Malus rockii', 'Malus sargentii', 'Malus sieboldii', 'Malus sieversii', 'Malus sikkimensis', 'Malus spectabilis', 'Malus sublobata', 'Malus sylvestris', 'Malus toringoides', 'Malus transitoria', 'Malus trilobata', 'Malus tschonoskii', 'Malus yunnanensis', 'Manganese', 'Manks Codlin', 'McIntosh (apple)', 'Melanion', 'Melba (apple)', 'Melrose (apple)', 'Michelin (apple)', 'Microgram', 'Micronutrient', 'Middle East', 'Middle English', 'Mildew', 'Milligram', 'Mineral (nutrient)', 'Minnesota', 'Missouri Botanical Garden', 'Moritz Balthasar Borkhausen', 'Morphology (biology)', 'Mountains of Central Asia', 'Mutsu (apple)', 'Mythology', 'Nabu Press', 'National Biodiversity Network', 'National Center for Biotechnology Information', 'National Herbarium of Victoria', 'National Library of Medicine', 'Natural Resources Conservation Service', 'NatureServe', 'Near East', 'Neem', 'Nehalennia', 'Newton Wonder', 'Newtown Pippin', 'Niacin (nutrient)', 'Nicola (apple)', 'Norfolk Biffin', 'Norse mythology', 'Norse paganism', 'Northern Spy', 'Nut (fruit)', 'O-quinone', 'Old English', 'Opal (apple)', 'Open Tree of Life', 'Oral allergy syndrome', 'Orchard mason bee', 'Organic farming', 'Ornamental plant', 'Oseberg ship', 'Osmia lignaria', 'PRI disease resistant apple breeding program', \"Pam's Delight\", 'Pantothenic acid', 'Papirovka', 'Paris (mythology)', 'Paula Red', 'Pearmain', 'Pectin', 'Peleus', 'Penguin Books', 'Persia', 'Petal', 'Phosphorus', 'Phytochemical', 'Pink Pearl (apple)', 'Pinova', 'Plant', 'Plants for a Future', 'Plants of the World Online', 'Plato', 'Poland', 'Pollen', 'Pollination', 'Pollinator', 'Polyphenol', 'Polyphenol oxidase', 'Polyploid', 'Pome', 'Pommeau', 'Potassium in biology', 'Poveshon', 'President of Finland', 'Prima apple', 'Pristine apple', 'Prose Edda', 'Protein', 'Protein (nutrient)', 'Proto-Germanic language', 'Proto-Indo-European language', 'Proverb', 'Pyrethrum', 'Queen bee', 'R. Gordon Wasson', 'Rajka (apple)', 'Ralls Janet', 'Rambo apple', 'Reading Eagle', 'Red Astrachan', 'Red Delicious', 'Red Pineapple (apple)', 'Redlove apples', 'Redox', 'Redstreak', 'Reinette', 'Reinette du Canada', 'Religion', 'Renaissance', 'Rerir', 'Revista Chilena de Historia Natural', 'Rhode Island Greening', 'Riboflavin', 'Ribston Pippin', 'Roman Empire', 'Rome apple', 'Root cellar', 'Rootstock', 'Rosaceae', 'Rosales', 'Rosh Hashanah', 'Rosids', 'Routledge', 'Roxbury Russet', 'Russet apple', 'Russetted', 'Sandow (apple)', 'Sansa apple', 'Sciros', 'Seduction', 'Sekai Ichi', 'Shoot', 'Silk Road', 'Skald', 'Skáldskaparmál', 'Skírnir', 'Skírnismál', 'Slack-ma-Girdle', 'Snorri Sturluson', 'Sodium in biology', 'Sparta', 'Spartan (apple)', 'Species', 'Splendour (apple)', 'Spring (season)', 'Star of Devon', 'Stayman (apple)', 'Stewed', 'Sturmer Pippin', 'Styre', 'Subtropical', 'Sugar', 'SugarBee', 'Summer', 'Summerfree', 'Sunset (apple)', 'Suntan (apple)', 'Swazie (apple)', 'SweeTango', 'Sweet Bough', 'Synanthedon myopaeformis', 'Synonym (taxonomy)', 'Table apple', 'Tajikistan', 'Taliaferro (apple)', 'Tartu Rose', 'Taxonomy (biology)', 'Temperate', 'Tentation', 'The New York Times', 'The Plant List', 'Thetis', 'Thiamine', 'Tian Shan', 'Toffee', 'Toffee apple', 'Tom Putt', 'Tompkins King', 'Tonne', 'Tonnes', 'Topaz (apple)', 'Tree', 'Trojan War', 'Tropicos', 'Troy', 'True-breeding organism', 'Tumulus', 'Turkey', 'US Apple Association', 'United States', 'University of Georgia', 'University of Minnesota', 'Upton Pyne apple', 'Urticaria', 'Vanir', 'Variety (botany)', 'Vascular plant', 'Vitamin', 'Vitamin A', 'Vitamin B6', 'Vitamin C', 'Vitamin E', 'Vitamin K', 'Völsung', 'Völsunga saga', 'Wales', 'Wealthy (apple)', 'Welsh apples', 'White Transparent', 'Wijcik McIntosh', 'William Blaxton', 'Winesap', 'Winston (apple)', 'Wisconsin', 'Wolf River (apple)', 'Woodcock (apple)', 'Worcester Pearmain', 'World Flora Online', 'World religions', 'Wyken Pippin', 'Xinjiang', 'Yarlington Mill', 'York Imperial', 'Zeaxanthin', 'Zestar apple', 'Zinc', 'Zygosity', 'Åkerö']\n",
      "['4Kids Entertainment', '4Licensing Corporation', 'Advanced Battle', 'Advanced Challenge', 'Adventures in the Orange Islands', 'Alfred R. Kahn', 'All Nippon Airways', 'Anti-Defamation League', 'Arceus and the Jewel of Life', 'Ars Technica', 'Ash & Pikachu', 'Ash Ketchum', 'Augmented reality', 'Australia', 'Battle Frontier', 'Best-selling video game franchise', 'Binburrum', 'Black & White: Adventures in Unova', 'Black & White: Adventures in Unova and Beyond', 'Black & White: Rival Destinies', 'Black—Victini and Reshiram', 'Boeing 747-400', 'Bonin Islands', 'Bosnian War', 'Brock (Pokémon)', 'Buddhist', 'Bulbasaur', 'Burger King Pokémon container recall', 'CBC.ca', 'CBS Interactive', 'CD Universe', 'CNET', 'Cameo appearance', 'Carry On (Kygo and Rita Ora song)', 'Celebi (Pokémon)', 'Celestial (Ed Sheeran song)', 'Charizard', 'Charmander', 'Chicago Sun-Times', 'Chinpokomon', 'Chiquimula', 'Christian fundamentalism', 'Chronology', 'Chuang Yi', 'Cockfight', 'Codex Alera', 'Collectible card game', 'Creatures (company)', 'Cross', 'Crowdsource', 'Cruelty to animals', 'Cubone', 'Dennō Senshi Porygon', 'Destiny Deoxys', 'Detective Pikachu (film)', 'Detective Pikachu (video game)', 'Diamond and Pearl: Battle Dimension', 'Diamond and Pearl: Galactic Battles', 'Diamond and Pearl: Sinnoh League Victors', 'Diancie and the Cocoon of Destruction', 'Dictionary.com', 'Digimon', 'Digital Monster (virtual pet)', 'Digivolution', 'Dog fighting', \"Don't Say You Love Me (M2M song)\", 'Drawn Together', 'Duke University Press', 'E3 Series Shinkansen', 'EDGAR Online', 'Economic materialism', 'Eevee', 'Electric (Katy Perry song)', 'Elite Four', 'Encyclopædia Britannica', 'Encyclopædia Britannica, Inc.', 'English plurals', 'Epilepsy', 'Europe', 'Experience point', 'Fan made', 'Fan site', 'Fandango Media', 'Fictional universe', 'Flying Without Wings', 'France', 'Freemasonry', 'Game Boy', 'Game Boy Advance', 'Game Boy Color', 'Game Freak', 'Game mode', 'GameSpot', 'Gameplay of Pokémon', 'Genesect and the Legend Awakened', 'Giratina and the Sky Warrior', \"Gotta Catch 'Em All (song)\", 'Greninja', 'Guatemala', 'Gyarados', 'Gym Leader', 'Hasbro', 'Hawaii', 'Hepburn romanization', 'Hey You, Pikachu!', 'HighBeam Research', 'Hokkaido', 'Hoopa and the Clash of Ages', 'I Choose You!', \"I Love the '90s: Part Deux\", 'IAC (company)', 'IDigitalTimes', 'IGN', 'Iberian Peninsula', 'Insect collecting', 'International Phonetic Alphabet', 'Isle of Man', 'Izu Islands', 'Japan', 'Japanese language', 'Jewish', 'Jigglypuff', 'Jim Butcher', 'Jirachi—Wish Maker', 'Joe Henderson', 'Johto League Champions', 'Joseph Tobin', 'Junichi Masuda', 'Jynx', 'KFC', 'Kadabra', 'Kansai region', 'Kantō region', 'Ken Sugimori', 'Korea', 'Kotaku', 'Kunihiko Yuyama', 'Kyurem vs. the Sword of Justice', 'Kyushu', 'Lapras', 'Lavender Town', 'Learn with Pokémon: Typing Adventure', 'Levels up', 'Lillie (Pokémon)', 'Lists of Pokémon episodes', 'Lucario', 'Lucario and the Mystery of Mew', 'Lucifer (TV series)', 'Lugia', \"Macy's Thanksgiving Day Parade\", 'Magical Pokémon Journey', 'Magikarp', 'Manga', 'Manhattan Beach, California', 'Martinsburg, West Virginia', 'Media franchise', 'Meitetsu', 'Meowth', \"Meowth's Party\", 'Merrick, New York', 'Metamorphosis', 'Mew (Pokémon)', 'Mewtwo', 'Mewtwo Strikes Back: Evolution', 'Mimikyu', 'MissingNo.', 'Misty (Pokémon)', 'Mobile game', 'Monopoly (game)', 'Monster in My Pocket', 'Mr. Mime', 'Muslim', 'My Pokémon Ranch', 'Nagoya', 'Nazism', 'Netflix', 'New Pokémon Snap', 'New York City', 'New York Daily News', 'New York Times', 'Newspapers.com', 'Nintendo', 'Nintendo 3DS', 'Nintendo DS', 'Nintendo Switch', 'Nintendo World Store', 'Nintendo e-Reader', 'Non-player character', 'North America', 'OLM, Inc.', 'Occult', 'Osaka', 'Oxford University Press', 'PETA satirical browser games', 'Palkia', 'Paywall', 'People (American magazine)', 'People for the Ethical Treatment of Animals', 'Pichu', 'Pikachu', 'Pikachu (sculpture)', 'Pikachurin', 'Play! Pokémon', 'Pocket Monsters Emerald: Challenge! Battle Frontier', 'Pocket Monsters RéBURST', 'Pokemon XYZ', 'Pokkén Tournament', 'Poké Ball', 'PokéPark 2: Wonders Beyond', \"PokéPark Wii: Pikachu's Adventure\", 'Pokédex', 'Pokéfuta', 'Pokémate', 'Pokémon', 'Pokémon (TV series)', 'Pokémon (anime)', 'Pokémon (manga)', 'Pokémon (video game series)', 'Pokémon 2.B.A. Master', 'Pokémon 25th Anniversary', 'Pokémon 3: The Movie', 'Pokémon 3: The Movie - Spell of the Unown', 'Pokémon 3: The Ultimate Soundtrack', 'Pokémon 4Ever', 'Pokémon 4Ever: Celebi - Voice of the Forest', 'Pokémon Advanced', 'Pokémon Adventures', 'Pokémon Art Academy', 'Pokémon Battle Revolution', 'Pokémon Battle Trozei', 'Pokémon Black & White anime', 'Pokémon Black 2 and White 2', 'Pokémon Black and White', 'Pokémon Black and White (manga)', 'Pokémon Brilliant Diamond and Shining Pearl', 'Pokémon Café Mix', 'Pokémon Channel', 'Pokémon Christmas Bash', 'Pokémon Chronicles', 'Pokémon Colosseum', 'Pokémon Conquest', 'Pokémon Crystal', 'Pokémon Dash', 'Pokémon Detective Pikachu', 'Pokémon Diamond and Pearl', 'Pokémon Diamond and Pearl Adventure!', 'Pokémon Duel', 'Pokémon Emerald', 'Pokémon Evolutions', 'Pokémon FireRed and LeafGreen', 'Pokémon Fossil Museum', 'Pokémon GO Battle League', 'Pokémon Generations', 'Pokémon Go', 'Pokémon Go live events', 'Pokémon Gold & Silver (manga)', 'Pokémon Gold and Silver', 'Pokémon HeartGold and SoulSilver', 'Pokémon Heroes', 'Pokémon Heroes: Latios and Latias', 'Pokémon Home', 'Pokémon Jet', 'Pokémon Journeys', 'Pokémon Journeys: The Series', 'Pokémon Junior', 'Pokémon League', 'Pokémon Legends: Arceus', 'Pokémon Live!', 'Pokémon Master Journeys', 'Pokémon Master Journeys: The Series', 'Pokémon Masters EX', 'Pokémon Mini', 'Pokémon Mystery Dungeon', 'Pokémon Mystery Dungeon: Adventure Team', 'Pokémon Mystery Dungeon: Blue Rescue Team and Red Rescue Team', 'Pokémon Mystery Dungeon: Explorers of Sky', 'Pokémon Mystery Dungeon: Explorers of Time and Explorers of Darkness', 'Pokémon Mystery Dungeon: Gates to Infinity', \"Pokémon Mystery Dungeon: Ginji's Rescue Team\", 'Pokémon Mystery Dungeon: Rescue Team DX', 'Pokémon Omega Ruby and Alpha Sapphire', 'Pokémon Origins', 'Pokémon Picross', 'Pokémon Pikachu', 'Pokémon Pinball', 'Pokémon Pinball: Ruby & Sapphire', 'Pokémon Platinum', 'Pokémon Pocket Monsters', 'Pokémon Project Studio', 'Pokémon Puzzle Challenge', 'Pokémon Puzzle League', 'Pokémon Quest', 'Pokémon Ranger', 'Pokémon Ranger and the Temple of the Sea', 'Pokémon Ranger: Guardian Signs', 'Pokémon Ranger: Shadows of Almia', 'Pokémon Red and Blue', 'Pokémon Ruby and Sapphire', 'Pokémon Ruby-Sapphire', 'Pokémon Rumble', 'Pokémon Rumble Blast', 'Pokémon Rumble Rush', 'Pokémon Rumble U', 'Pokémon Rumble World', 'Pokémon Sage', 'Pokémon Scarlet and Violet', 'Pokémon Shuffle', 'Pokémon Sleep', 'Pokémon Snap', 'Pokémon Stadium', 'Pokémon Stadium 2', 'Pokémon Sun and Moon', 'Pokémon Super Mystery Dungeon', 'Pokémon Sword and Shield', 'Pokémon Sword and Shield: The Crown Tundra', 'Pokémon Sword and Shield: The Isle of Armor', 'Pokémon TCG Online', 'Pokémon Theme', 'Pokémon Trading Card Game', 'Pokémon Trading Card Game (video game)', 'Pokémon Trading Figure Game', 'Pokémon Trainer', 'Pokémon Trozei!', 'Pokémon Ultimate Journeys', 'Pokémon Ultimate Journeys: The Series', 'Pokémon Ultra Sun and Ultra Moon', 'Pokémon Unite', 'Pokémon Uranium', 'Pokémon World', 'Pokémon World Championships', 'Pokémon X and Y', 'Pokémon X: Ten Years of Pokémon', 'Pokémon XD: Gale of Darkness', 'Pokémon XY anime', 'Pokémon Yellow', 'Pokémon competitive play', 'Pokémon episodes removed from rotation', 'Pokémon evolution', 'Pokémon moves', 'Pokémon statistics', 'Pokémon the Movie: Black—Victini and Reshiram and White—Victini and Zekrom', 'Pokémon the Movie: Diancie and the Cocoon of Destruction', 'Pokémon the Movie: Genesect and the Legend Awakened', 'Pokémon the Movie: Hoopa and the Clash of Ages', 'Pokémon the Movie: I Choose You!', 'Pokémon the Movie: Kyurem vs. the Sword of Justice', 'Pokémon the Movie: Secrets of the Jungle', 'Pokémon the Movie: The Power of Us', 'Pokémon the Movie: Volcanion and the Mechanical Marvel', 'Pokémon the Series: Black & White', 'Pokémon the Series: Diamond and Pearl', 'Pokémon the Series: Sun & Moon', 'Pokémon the Series: Sun & Moon – Ultra Adventures', 'Pokémon the Series: Sun & Moon – Ultra Legends', 'Pokémon the Series: XY', 'Pokémon the Series: XY Kalos Quest', 'Pokémon the Series: XYZ', 'Pokémon universe', 'Pokémon, I Choose You!', 'Pokémon: Advanced', 'Pokémon: Advanced Battle', 'Pokémon: Advanced Challenge', 'Pokémon: Adventures in the Orange Islands', 'Pokémon: Arceus and the Jewel of Life', 'Pokémon: Battle Frontier', 'Pokémon: Black & White: Adventures in Unova', 'Pokémon: Black & White: Adventures in Unova and Beyond', 'Pokémon: Black & White: Rival Destinies', 'Pokémon: Destiny Deoxys', 'Pokémon: Diamond and Pearl', 'Pokémon: Diamond and Pearl: Battle Dimension', 'Pokémon: Diamond and Pearl: Galactic Battles', 'Pokémon: Diamond and Pearl: Sinnoh League Victors', 'Pokémon: Giratina & the Sky Warrior', 'Pokémon: Hisuian Snow', 'Pokémon: Indigo League', 'Pokémon: Jirachi—Wish Maker', 'Pokémon: Johto League Champions', \"Pokémon: Let's Go, Pikachu! and Let's Go, Eevee!\", 'Pokémon: Lucario and the Mystery of Mew', 'Pokémon: Magikarp Jump', 'Pokémon: Master Quest', 'Pokémon: Mewtwo Returns', 'Pokémon: Mewtwo Strikes Back—Evolution', 'Pokémon: Symphonic Evolutions', 'Pokémon: The Electric Tale of Pikachu', 'Pokémon: The First Movie', 'Pokémon: The First Movie (soundtrack)', 'Pokémon: The First Movie - Mewtwo Strikes Back', 'Pokémon: The First Movie Original Motion Picture Score', 'Pokémon: The Johto Journeys', 'Pokémon: The Mastermind of Mirage Pokémon', 'Pokémon: The Movie 2000', 'Pokémon: The Movie 2000 - The Power of One', 'Pokémon: The Movie 2000 Original Motion Picture Score', 'Pokémon: The Rise of Darkrai', 'Pokémon: Twilight Wings', 'Pokémon: Zoroark: Master of Illusions', 'Poképark', 'Pokétoon', 'Polygon (website)', 'Popplio', 'Popular culture', 'Portugal', 'Prequel', 'Problem gambling', 'Psyduck', 'Reddit', 'Robot Chicken', 'Rockefeller Center', 'Role-playing video game', 'Rotten Tomatoes', 'Russia', 'Sakhalin', 'Sat2000', 'Satoshi Tajiri', 'Saudi Arabia', 'School Library Journal', 'Scotland', 'Secrets of the Jungle', 'Seizures', 'Shōjo manga', 'Shōnen manga', 'Slogan', 'Snorlax', 'Sora Ltd.', 'Sora/Koe', 'South Park', 'Spain', 'Spin-off (media)', 'Squirtle', 'Star of David', 'Studio Colorido', 'Stuffed animal', 'Sun & Moon: Ultra Adventures', 'Sun & Moon: Ultra Legends', 'Super Bowl 50', 'Super Smash Bros.', 'Super Smash Bros. Brawl', 'Swastika', 'Syllabic abbreviation', 'TV Tokyo', 'Taipei', 'Takeshi Shudo', 'Tankōbon', 'Te o Tsunagō / Kindan no Karma', 'The Independent', 'The Johto Journeys', 'The Journal (West Virginia newspaper)', 'The Pokémon Company', 'The Pokémon Company International', 'The Power of One (song)', 'The Power of Us', 'The Rise of Darkrai', 'The Simpsons', 'The Verge', 'The Wall Street Journal', 'Thirty Minutes over Tokyo', 'Time (magazine)', 'Timeline of Pokémon', 'Toho', 'Toi et Moi (Namie Amuro song)', 'Tongue-in-cheek', 'Totally Pokémon', 'Tsunekazu Ishihara', 'Twitch (service)', 'Twitch Plays Pokémon', 'USgamer', 'Unicode', 'United Kingdom', 'United States', 'University of Auckland', 'University of Washington', 'Univision Communications', 'Unown', 'VH1', 'Vatican City', 'Venusaur', 'Violence', 'Viz Media', 'Voice acting', 'Volcanion and the Mechanical Marvel', 'Vox Media', 'Vox Media, Inc.', 'White—Victini and Zekrom', 'Wizards of the Coast', 'Wooloo', 'XY: Kalos Quest', 'YouTube', 'Zionism', 'Zoroark—Master of Illusions']\n"
     ]
    }
   ],
   "source": [
    "for i, (key, value) in enumerate((graph.items())):\n",
    "    print(value)"
   ]
  },
  {
   "cell_type": "code",
   "execution_count": 54,
   "metadata": {},
   "outputs": [
    {
     "data": {
      "text/plain": [
       "2"
      ]
     },
     "execution_count": 54,
     "metadata": {},
     "output_type": "execute_result"
    }
   ],
   "source": [
    "while len(graph) <= 6:\n",
    "    "
   ]
  },
  {
   "cell_type": "code",
   "execution_count": null,
   "metadata": {},
   "outputs": [],
   "source": []
  },
  {
   "cell_type": "code",
   "execution_count": null,
   "metadata": {},
   "outputs": [],
   "source": []
  },
  {
   "cell_type": "code",
   "execution_count": null,
   "metadata": {},
   "outputs": [],
   "source": []
  },
  {
   "cell_type": "code",
   "execution_count": null,
   "metadata": {},
   "outputs": [],
   "source": []
  },
  {
   "cell_type": "code",
   "execution_count": null,
   "metadata": {},
   "outputs": [],
   "source": []
  },
  {
   "cell_type": "code",
   "execution_count": null,
   "metadata": {},
   "outputs": [],
   "source": []
  },
  {
   "cell_type": "code",
   "execution_count": null,
   "metadata": {},
   "outputs": [],
   "source": []
  },
  {
   "cell_type": "code",
   "execution_count": null,
   "metadata": {},
   "outputs": [],
   "source": []
  },
  {
   "cell_type": "code",
   "execution_count": null,
   "metadata": {},
   "outputs": [],
   "source": []
  },
  {
   "cell_type": "code",
   "execution_count": null,
   "metadata": {},
   "outputs": [],
   "source": [
    "''' to transform map1, map2 into gephi graphable visualizations:\n",
    "map1: {'apple', 'pear'\n",
    "map2: {'fruit', 'red', 'america', 'green', 'oval'}\n",
    "\n",
    "nodes sheet: \n",
    "id  name\n",
    "1   apple\n",
    "2   pear\n",
    "3   fruit\n",
    "4   red\n",
    "5   america\n",
    "6   green\n",
    "7   oval\n",
    "\n",
    "edges sheet, with node values: \n",
    "source   target   type   weight\n",
    "apple    red\n",
    "apple    fruit\n",
    "apple    america\n",
    "pear     green\n",
    "pear     oval\n",
    "pear     america\n",
    "\n",
    "edges sheet, proper formatting:\n",
    "source   target   type   weight\n",
    "1        4\n",
    "1        3\n",
    "1        5\n",
    "2        6\n",
    "2        7\n",
    "2        5\n",
    "\n",
    "\n",
    "\n",
    "'''"
   ]
  },
  {
   "cell_type": "code",
   "execution_count": 71,
   "metadata": {},
   "outputs": [],
   "source": [
    "map1 = {}\n",
    "map2 = {}"
   ]
  },
  {
   "cell_type": "code",
   "execution_count": 72,
   "metadata": {},
   "outputs": [],
   "source": [
    "map1[\"a_0\"] = page_a.title\n",
    "map1[\"b_0\"] = page_b.title"
   ]
  },
  {
   "cell_type": "code",
   "execution_count": 73,
   "metadata": {},
   "outputs": [],
   "source": [
    "for count, value in enumerate(list_node_a): \n",
    "    dict_key = \"a_0_\" + str(count + 1)\n",
    "    map2[str(dict_key)] = value\n",
    "\n",
    "for count, value in enumerate(list_node_b): \n",
    "    dict_key = \"b_0_\" + str(count + 1)\n",
    "    map2[str(dict_key)] = value"
   ]
  },
  {
   "cell_type": "code",
   "execution_count": 33,
   "metadata": {
    "scrolled": true
   },
   "outputs": [],
   "source": [
    "for i, (key, value) in enumerate(map2.items()):\n",
    "    #print(i, key, value)\n",
    "    \n",
    "    # first store the map2 key in map1 AND map2 value in map1 (key:value pair)\n",
    "    map1[str(key)] = value"
   ]
  },
  {
   "cell_type": "code",
   "execution_count": 43,
   "metadata": {},
   "outputs": [],
   "source": [
    "page_a_from = [page_a.title] * len(list_node_a)\n",
    "page_a_to = list_node_a\n",
    "    \n",
    "page_b_from = [page_b.title] * len(list_node_b)\n",
    "page_b_to = list_node_b"
   ]
  },
  {
   "cell_type": "code",
   "execution_count": 44,
   "metadata": {},
   "outputs": [],
   "source": [
    "pages_from = page_a_from + page_b_from\n",
    "\n",
    "pages_to = page_a_to + page_b_to"
   ]
  },
  {
   "cell_type": "code",
   "execution_count": 45,
   "metadata": {},
   "outputs": [],
   "source": [
    "d = {'from': pages_from, 'to': pages_to}\n",
    "\n",
    "df = pd.DataFrame(d)\n",
    "#df"
   ]
  },
  {
   "cell_type": "code",
   "execution_count": 31,
   "metadata": {},
   "outputs": [],
   "source": [
    "#type(df)\n",
    "\n",
    "df.to_excel(\"output.xlsx\", index = False)"
   ]
  }
 ],
 "metadata": {
  "kernelspec": {
   "display_name": "Python 3",
   "language": "python",
   "name": "python3"
  },
  "language_info": {
   "codemirror_mode": {
    "name": "ipython",
    "version": 3
   },
   "file_extension": ".py",
   "mimetype": "text/x-python",
   "name": "python",
   "nbconvert_exporter": "python",
   "pygments_lexer": "ipython3",
   "version": "3.8.5"
  }
 },
 "nbformat": 4,
 "nbformat_minor": 4
}
